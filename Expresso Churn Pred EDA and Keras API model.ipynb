{
  "nbformat": 4,
  "nbformat_minor": 0,
  "metadata": {
    "colab": {
      "name": "ExpressoKerasAPI.ipynb",
      "provenance": []
    },
    "kernelspec": {
      "name": "python3",
      "display_name": "Python 3"
    },
    "language_info": {
      "name": "python"
    },
    "accelerator": "GPU"
  },
  "cells": [
    {
      "cell_type": "markdown",
      "metadata": {
        "id": "1KbCZTcpzSjT"
      },
      "source": [
        "# EXPRESO CHURN"
      ]
    },
    {
      "cell_type": "code",
      "metadata": {
        "id": "d57eMteXzNVY",
        "colab": {
          "base_uri": "https://localhost:8080/"
        },
        "outputId": "7cfd42c4-b010-4a12-fad5-d414a2ce5da3"
      },
      "source": [
        "from google.colab import drive\n",
        "drive.mount('/content/drive')"
      ],
      "execution_count": 1,
      "outputs": [
        {
          "output_type": "stream",
          "name": "stdout",
          "text": [
            "Mounted at /content/drive\n"
          ]
        }
      ]
    },
    {
      "cell_type": "code",
      "metadata": {
        "id": "bJpgZnCw1FYL"
      },
      "source": [
        "import pandas as pd\n",
        "import numpy as np\n",
        "import matplotlib.pyplot as plt\n",
        "import seaborn as sns\n",
        "from sklearn.preprocessing import OneHotEncoder, OrdinalEncoder\n",
        "from sklearn.metrics import accuracy_score, classification_report\n",
        "from sklearn.metrics import auc , roc_curve\n",
        "import warnings\n",
        "warnings.filterwarnings(\"ignore\")"
      ],
      "execution_count": 2,
      "outputs": []
    },
    {
      "cell_type": "code",
      "metadata": {
        "colab": {
          "base_uri": "https://localhost:8080/",
          "height": 356
        },
        "id": "T6ucr8F81Fmo",
        "outputId": "6934ef33-109d-40c7-9e4d-928ea0033fa6"
      },
      "source": [
        "expresso_churn_df = pd.read_csv('/content/drive/MyDrive/Expresso Churn/Train.csv')\n",
        "expresso_churn_df.head()"
      ],
      "execution_count": 3,
      "outputs": [
        {
          "output_type": "execute_result",
          "data": {
            "text/html": [
              "\n",
              "  <div id=\"df-02e92540-a19e-4778-a478-36eb17d876b2\">\n",
              "    <div class=\"colab-df-container\">\n",
              "      <div>\n",
              "<style scoped>\n",
              "    .dataframe tbody tr th:only-of-type {\n",
              "        vertical-align: middle;\n",
              "    }\n",
              "\n",
              "    .dataframe tbody tr th {\n",
              "        vertical-align: top;\n",
              "    }\n",
              "\n",
              "    .dataframe thead th {\n",
              "        text-align: right;\n",
              "    }\n",
              "</style>\n",
              "<table border=\"1\" class=\"dataframe\">\n",
              "  <thead>\n",
              "    <tr style=\"text-align: right;\">\n",
              "      <th></th>\n",
              "      <th>user_id</th>\n",
              "      <th>REGION</th>\n",
              "      <th>TENURE</th>\n",
              "      <th>MONTANT</th>\n",
              "      <th>FREQUENCE_RECH</th>\n",
              "      <th>REVENUE</th>\n",
              "      <th>ARPU_SEGMENT</th>\n",
              "      <th>FREQUENCE</th>\n",
              "      <th>DATA_VOLUME</th>\n",
              "      <th>ON_NET</th>\n",
              "      <th>ORANGE</th>\n",
              "      <th>TIGO</th>\n",
              "      <th>ZONE1</th>\n",
              "      <th>ZONE2</th>\n",
              "      <th>MRG</th>\n",
              "      <th>REGULARITY</th>\n",
              "      <th>TOP_PACK</th>\n",
              "      <th>FREQ_TOP_PACK</th>\n",
              "      <th>CHURN</th>\n",
              "    </tr>\n",
              "  </thead>\n",
              "  <tbody>\n",
              "    <tr>\n",
              "      <th>0</th>\n",
              "      <td>00000bfd7d50f01092811bc0c8d7b0d6fe7c3596</td>\n",
              "      <td>FATICK</td>\n",
              "      <td>K &gt; 24 month</td>\n",
              "      <td>4250.0</td>\n",
              "      <td>15.0</td>\n",
              "      <td>4251.0</td>\n",
              "      <td>1417.0</td>\n",
              "      <td>17.0</td>\n",
              "      <td>4.0</td>\n",
              "      <td>388.0</td>\n",
              "      <td>46.0</td>\n",
              "      <td>1.0</td>\n",
              "      <td>1.0</td>\n",
              "      <td>2.0</td>\n",
              "      <td>NO</td>\n",
              "      <td>54</td>\n",
              "      <td>On net 200F=Unlimited _call24H</td>\n",
              "      <td>8.0</td>\n",
              "      <td>0</td>\n",
              "    </tr>\n",
              "    <tr>\n",
              "      <th>1</th>\n",
              "      <td>00000cb4a5d760de88fecb38e2f71b7bec52e834</td>\n",
              "      <td>NaN</td>\n",
              "      <td>I 18-21 month</td>\n",
              "      <td>NaN</td>\n",
              "      <td>NaN</td>\n",
              "      <td>NaN</td>\n",
              "      <td>NaN</td>\n",
              "      <td>NaN</td>\n",
              "      <td>NaN</td>\n",
              "      <td>NaN</td>\n",
              "      <td>NaN</td>\n",
              "      <td>NaN</td>\n",
              "      <td>NaN</td>\n",
              "      <td>NaN</td>\n",
              "      <td>NO</td>\n",
              "      <td>4</td>\n",
              "      <td>NaN</td>\n",
              "      <td>NaN</td>\n",
              "      <td>1</td>\n",
              "    </tr>\n",
              "    <tr>\n",
              "      <th>2</th>\n",
              "      <td>00001654a9d9f96303d9969d0a4a851714a4bb57</td>\n",
              "      <td>NaN</td>\n",
              "      <td>K &gt; 24 month</td>\n",
              "      <td>3600.0</td>\n",
              "      <td>2.0</td>\n",
              "      <td>1020.0</td>\n",
              "      <td>340.0</td>\n",
              "      <td>2.0</td>\n",
              "      <td>NaN</td>\n",
              "      <td>90.0</td>\n",
              "      <td>46.0</td>\n",
              "      <td>7.0</td>\n",
              "      <td>NaN</td>\n",
              "      <td>NaN</td>\n",
              "      <td>NO</td>\n",
              "      <td>17</td>\n",
              "      <td>On-net 1000F=10MilF;10d</td>\n",
              "      <td>1.0</td>\n",
              "      <td>0</td>\n",
              "    </tr>\n",
              "    <tr>\n",
              "      <th>3</th>\n",
              "      <td>00001dd6fa45f7ba044bd5d84937be464ce78ac2</td>\n",
              "      <td>DAKAR</td>\n",
              "      <td>K &gt; 24 month</td>\n",
              "      <td>13500.0</td>\n",
              "      <td>15.0</td>\n",
              "      <td>13502.0</td>\n",
              "      <td>4501.0</td>\n",
              "      <td>18.0</td>\n",
              "      <td>43804.0</td>\n",
              "      <td>41.0</td>\n",
              "      <td>102.0</td>\n",
              "      <td>2.0</td>\n",
              "      <td>NaN</td>\n",
              "      <td>NaN</td>\n",
              "      <td>NO</td>\n",
              "      <td>62</td>\n",
              "      <td>Data:1000F=5GB,7d</td>\n",
              "      <td>11.0</td>\n",
              "      <td>0</td>\n",
              "    </tr>\n",
              "    <tr>\n",
              "      <th>4</th>\n",
              "      <td>000028d9e13a595abe061f9b58f3d76ab907850f</td>\n",
              "      <td>DAKAR</td>\n",
              "      <td>K &gt; 24 month</td>\n",
              "      <td>1000.0</td>\n",
              "      <td>1.0</td>\n",
              "      <td>985.0</td>\n",
              "      <td>328.0</td>\n",
              "      <td>1.0</td>\n",
              "      <td>NaN</td>\n",
              "      <td>39.0</td>\n",
              "      <td>24.0</td>\n",
              "      <td>NaN</td>\n",
              "      <td>NaN</td>\n",
              "      <td>NaN</td>\n",
              "      <td>NO</td>\n",
              "      <td>11</td>\n",
              "      <td>Mixt 250F=Unlimited_call24H</td>\n",
              "      <td>2.0</td>\n",
              "      <td>0</td>\n",
              "    </tr>\n",
              "  </tbody>\n",
              "</table>\n",
              "</div>\n",
              "      <button class=\"colab-df-convert\" onclick=\"convertToInteractive('df-02e92540-a19e-4778-a478-36eb17d876b2')\"\n",
              "              title=\"Convert this dataframe to an interactive table.\"\n",
              "              style=\"display:none;\">\n",
              "        \n",
              "  <svg xmlns=\"http://www.w3.org/2000/svg\" height=\"24px\"viewBox=\"0 0 24 24\"\n",
              "       width=\"24px\">\n",
              "    <path d=\"M0 0h24v24H0V0z\" fill=\"none\"/>\n",
              "    <path d=\"M18.56 5.44l.94 2.06.94-2.06 2.06-.94-2.06-.94-.94-2.06-.94 2.06-2.06.94zm-11 1L8.5 8.5l.94-2.06 2.06-.94-2.06-.94L8.5 2.5l-.94 2.06-2.06.94zm10 10l.94 2.06.94-2.06 2.06-.94-2.06-.94-.94-2.06-.94 2.06-2.06.94z\"/><path d=\"M17.41 7.96l-1.37-1.37c-.4-.4-.92-.59-1.43-.59-.52 0-1.04.2-1.43.59L10.3 9.45l-7.72 7.72c-.78.78-.78 2.05 0 2.83L4 21.41c.39.39.9.59 1.41.59.51 0 1.02-.2 1.41-.59l7.78-7.78 2.81-2.81c.8-.78.8-2.07 0-2.86zM5.41 20L4 18.59l7.72-7.72 1.47 1.35L5.41 20z\"/>\n",
              "  </svg>\n",
              "      </button>\n",
              "      \n",
              "  <style>\n",
              "    .colab-df-container {\n",
              "      display:flex;\n",
              "      flex-wrap:wrap;\n",
              "      gap: 12px;\n",
              "    }\n",
              "\n",
              "    .colab-df-convert {\n",
              "      background-color: #E8F0FE;\n",
              "      border: none;\n",
              "      border-radius: 50%;\n",
              "      cursor: pointer;\n",
              "      display: none;\n",
              "      fill: #1967D2;\n",
              "      height: 32px;\n",
              "      padding: 0 0 0 0;\n",
              "      width: 32px;\n",
              "    }\n",
              "\n",
              "    .colab-df-convert:hover {\n",
              "      background-color: #E2EBFA;\n",
              "      box-shadow: 0px 1px 2px rgba(60, 64, 67, 0.3), 0px 1px 3px 1px rgba(60, 64, 67, 0.15);\n",
              "      fill: #174EA6;\n",
              "    }\n",
              "\n",
              "    [theme=dark] .colab-df-convert {\n",
              "      background-color: #3B4455;\n",
              "      fill: #D2E3FC;\n",
              "    }\n",
              "\n",
              "    [theme=dark] .colab-df-convert:hover {\n",
              "      background-color: #434B5C;\n",
              "      box-shadow: 0px 1px 3px 1px rgba(0, 0, 0, 0.15);\n",
              "      filter: drop-shadow(0px 1px 2px rgba(0, 0, 0, 0.3));\n",
              "      fill: #FFFFFF;\n",
              "    }\n",
              "  </style>\n",
              "\n",
              "      <script>\n",
              "        const buttonEl =\n",
              "          document.querySelector('#df-02e92540-a19e-4778-a478-36eb17d876b2 button.colab-df-convert');\n",
              "        buttonEl.style.display =\n",
              "          google.colab.kernel.accessAllowed ? 'block' : 'none';\n",
              "\n",
              "        async function convertToInteractive(key) {\n",
              "          const element = document.querySelector('#df-02e92540-a19e-4778-a478-36eb17d876b2');\n",
              "          const dataTable =\n",
              "            await google.colab.kernel.invokeFunction('convertToInteractive',\n",
              "                                                     [key], {});\n",
              "          if (!dataTable) return;\n",
              "\n",
              "          const docLinkHtml = 'Like what you see? Visit the ' +\n",
              "            '<a target=\"_blank\" href=https://colab.research.google.com/notebooks/data_table.ipynb>data table notebook</a>'\n",
              "            + ' to learn more about interactive tables.';\n",
              "          element.innerHTML = '';\n",
              "          dataTable['output_type'] = 'display_data';\n",
              "          await google.colab.output.renderOutput(dataTable, element);\n",
              "          const docLink = document.createElement('div');\n",
              "          docLink.innerHTML = docLinkHtml;\n",
              "          element.appendChild(docLink);\n",
              "        }\n",
              "      </script>\n",
              "    </div>\n",
              "  </div>\n",
              "  "
            ],
            "text/plain": [
              "                                    user_id  REGION  ... FREQ_TOP_PACK  CHURN\n",
              "0  00000bfd7d50f01092811bc0c8d7b0d6fe7c3596  FATICK  ...           8.0      0\n",
              "1  00000cb4a5d760de88fecb38e2f71b7bec52e834     NaN  ...           NaN      1\n",
              "2  00001654a9d9f96303d9969d0a4a851714a4bb57     NaN  ...           1.0      0\n",
              "3  00001dd6fa45f7ba044bd5d84937be464ce78ac2   DAKAR  ...          11.0      0\n",
              "4  000028d9e13a595abe061f9b58f3d76ab907850f   DAKAR  ...           2.0      0\n",
              "\n",
              "[5 rows x 19 columns]"
            ]
          },
          "metadata": {},
          "execution_count": 3
        }
      ]
    },
    {
      "cell_type": "code",
      "metadata": {
        "id": "CQo8EqOq1F2o",
        "colab": {
          "base_uri": "https://localhost:8080/"
        },
        "outputId": "7d8804ec-3d30-4feb-8a3c-b98f538a6709"
      },
      "source": [
        "expresso_churn_df.shape"
      ],
      "execution_count": 4,
      "outputs": [
        {
          "output_type": "execute_result",
          "data": {
            "text/plain": [
              "(2154048, 19)"
            ]
          },
          "metadata": {},
          "execution_count": 4
        }
      ]
    },
    {
      "cell_type": "code",
      "metadata": {
        "id": "vybXzWm41lQV",
        "colab": {
          "base_uri": "https://localhost:8080/"
        },
        "outputId": "1ffb7b32-b7d4-4b24-88e4-ef973215893a"
      },
      "source": [
        "expresso_churn_df.info()"
      ],
      "execution_count": 5,
      "outputs": [
        {
          "output_type": "stream",
          "name": "stdout",
          "text": [
            "<class 'pandas.core.frame.DataFrame'>\n",
            "RangeIndex: 2154048 entries, 0 to 2154047\n",
            "Data columns (total 19 columns):\n",
            " #   Column          Dtype  \n",
            "---  ------          -----  \n",
            " 0   user_id         object \n",
            " 1   REGION          object \n",
            " 2   TENURE          object \n",
            " 3   MONTANT         float64\n",
            " 4   FREQUENCE_RECH  float64\n",
            " 5   REVENUE         float64\n",
            " 6   ARPU_SEGMENT    float64\n",
            " 7   FREQUENCE       float64\n",
            " 8   DATA_VOLUME     float64\n",
            " 9   ON_NET          float64\n",
            " 10  ORANGE          float64\n",
            " 11  TIGO            float64\n",
            " 12  ZONE1           float64\n",
            " 13  ZONE2           float64\n",
            " 14  MRG             object \n",
            " 15  REGULARITY      int64  \n",
            " 16  TOP_PACK        object \n",
            " 17  FREQ_TOP_PACK   float64\n",
            " 18  CHURN           int64  \n",
            "dtypes: float64(12), int64(2), object(5)\n",
            "memory usage: 312.2+ MB\n"
          ]
        }
      ]
    },
    {
      "cell_type": "code",
      "metadata": {
        "id": "k2TWvyYL1lVv",
        "colab": {
          "base_uri": "https://localhost:8080/",
          "height": 364
        },
        "outputId": "9b81686e-ef34-47ce-8a0d-78f38a6bb85c"
      },
      "source": [
        "expresso_churn_df.describe()"
      ],
      "execution_count": 6,
      "outputs": [
        {
          "output_type": "execute_result",
          "data": {
            "text/html": [
              "\n",
              "  <div id=\"df-7e214afc-4043-49f5-8e7c-a13786ab777b\">\n",
              "    <div class=\"colab-df-container\">\n",
              "      <div>\n",
              "<style scoped>\n",
              "    .dataframe tbody tr th:only-of-type {\n",
              "        vertical-align: middle;\n",
              "    }\n",
              "\n",
              "    .dataframe tbody tr th {\n",
              "        vertical-align: top;\n",
              "    }\n",
              "\n",
              "    .dataframe thead th {\n",
              "        text-align: right;\n",
              "    }\n",
              "</style>\n",
              "<table border=\"1\" class=\"dataframe\">\n",
              "  <thead>\n",
              "    <tr style=\"text-align: right;\">\n",
              "      <th></th>\n",
              "      <th>MONTANT</th>\n",
              "      <th>FREQUENCE_RECH</th>\n",
              "      <th>REVENUE</th>\n",
              "      <th>ARPU_SEGMENT</th>\n",
              "      <th>FREQUENCE</th>\n",
              "      <th>DATA_VOLUME</th>\n",
              "      <th>ON_NET</th>\n",
              "      <th>ORANGE</th>\n",
              "      <th>TIGO</th>\n",
              "      <th>ZONE1</th>\n",
              "      <th>ZONE2</th>\n",
              "      <th>REGULARITY</th>\n",
              "      <th>FREQ_TOP_PACK</th>\n",
              "      <th>CHURN</th>\n",
              "    </tr>\n",
              "  </thead>\n",
              "  <tbody>\n",
              "    <tr>\n",
              "      <th>count</th>\n",
              "      <td>1.397309e+06</td>\n",
              "      <td>1.397309e+06</td>\n",
              "      <td>1.428000e+06</td>\n",
              "      <td>1.428000e+06</td>\n",
              "      <td>1.428000e+06</td>\n",
              "      <td>1.093615e+06</td>\n",
              "      <td>1.367373e+06</td>\n",
              "      <td>1.258800e+06</td>\n",
              "      <td>864032.000000</td>\n",
              "      <td>169721.000000</td>\n",
              "      <td>136824.000000</td>\n",
              "      <td>2.154048e+06</td>\n",
              "      <td>1.251454e+06</td>\n",
              "      <td>2.154048e+06</td>\n",
              "    </tr>\n",
              "    <tr>\n",
              "      <th>mean</th>\n",
              "      <td>5.532117e+03</td>\n",
              "      <td>1.152912e+01</td>\n",
              "      <td>5.510810e+03</td>\n",
              "      <td>1.836943e+03</td>\n",
              "      <td>1.397814e+01</td>\n",
              "      <td>3.366450e+03</td>\n",
              "      <td>2.776891e+02</td>\n",
              "      <td>9.541871e+01</td>\n",
              "      <td>23.109253</td>\n",
              "      <td>8.170132</td>\n",
              "      <td>7.553309</td>\n",
              "      <td>2.804251e+01</td>\n",
              "      <td>9.272461e+00</td>\n",
              "      <td>1.875474e-01</td>\n",
              "    </tr>\n",
              "    <tr>\n",
              "      <th>std</th>\n",
              "      <td>7.111339e+03</td>\n",
              "      <td>1.327407e+01</td>\n",
              "      <td>7.187113e+03</td>\n",
              "      <td>2.395700e+03</td>\n",
              "      <td>1.469403e+01</td>\n",
              "      <td>1.330446e+04</td>\n",
              "      <td>8.726889e+02</td>\n",
              "      <td>2.049873e+02</td>\n",
              "      <td>63.578086</td>\n",
              "      <td>41.169511</td>\n",
              "      <td>33.487234</td>\n",
              "      <td>2.228686e+01</td>\n",
              "      <td>1.228044e+01</td>\n",
              "      <td>3.903504e-01</td>\n",
              "    </tr>\n",
              "    <tr>\n",
              "      <th>min</th>\n",
              "      <td>1.000000e+01</td>\n",
              "      <td>1.000000e+00</td>\n",
              "      <td>1.000000e+00</td>\n",
              "      <td>0.000000e+00</td>\n",
              "      <td>1.000000e+00</td>\n",
              "      <td>0.000000e+00</td>\n",
              "      <td>0.000000e+00</td>\n",
              "      <td>0.000000e+00</td>\n",
              "      <td>0.000000</td>\n",
              "      <td>0.000000</td>\n",
              "      <td>0.000000</td>\n",
              "      <td>1.000000e+00</td>\n",
              "      <td>1.000000e+00</td>\n",
              "      <td>0.000000e+00</td>\n",
              "    </tr>\n",
              "    <tr>\n",
              "      <th>25%</th>\n",
              "      <td>1.000000e+03</td>\n",
              "      <td>2.000000e+00</td>\n",
              "      <td>1.000000e+03</td>\n",
              "      <td>3.330000e+02</td>\n",
              "      <td>3.000000e+00</td>\n",
              "      <td>0.000000e+00</td>\n",
              "      <td>5.000000e+00</td>\n",
              "      <td>7.000000e+00</td>\n",
              "      <td>2.000000</td>\n",
              "      <td>0.000000</td>\n",
              "      <td>0.000000</td>\n",
              "      <td>6.000000e+00</td>\n",
              "      <td>2.000000e+00</td>\n",
              "      <td>0.000000e+00</td>\n",
              "    </tr>\n",
              "    <tr>\n",
              "      <th>50%</th>\n",
              "      <td>3.000000e+03</td>\n",
              "      <td>7.000000e+00</td>\n",
              "      <td>3.000000e+03</td>\n",
              "      <td>1.000000e+03</td>\n",
              "      <td>9.000000e+00</td>\n",
              "      <td>2.570000e+02</td>\n",
              "      <td>2.700000e+01</td>\n",
              "      <td>2.900000e+01</td>\n",
              "      <td>6.000000</td>\n",
              "      <td>1.000000</td>\n",
              "      <td>2.000000</td>\n",
              "      <td>2.400000e+01</td>\n",
              "      <td>5.000000e+00</td>\n",
              "      <td>0.000000e+00</td>\n",
              "    </tr>\n",
              "    <tr>\n",
              "      <th>75%</th>\n",
              "      <td>7.350000e+03</td>\n",
              "      <td>1.600000e+01</td>\n",
              "      <td>7.368000e+03</td>\n",
              "      <td>2.456000e+03</td>\n",
              "      <td>2.000000e+01</td>\n",
              "      <td>2.895000e+03</td>\n",
              "      <td>1.560000e+02</td>\n",
              "      <td>9.900000e+01</td>\n",
              "      <td>20.000000</td>\n",
              "      <td>3.000000</td>\n",
              "      <td>5.000000</td>\n",
              "      <td>5.100000e+01</td>\n",
              "      <td>1.200000e+01</td>\n",
              "      <td>0.000000e+00</td>\n",
              "    </tr>\n",
              "    <tr>\n",
              "      <th>max</th>\n",
              "      <td>4.700000e+05</td>\n",
              "      <td>1.330000e+02</td>\n",
              "      <td>5.321770e+05</td>\n",
              "      <td>1.773920e+05</td>\n",
              "      <td>9.100000e+01</td>\n",
              "      <td>1.823866e+06</td>\n",
              "      <td>5.080900e+04</td>\n",
              "      <td>2.132300e+04</td>\n",
              "      <td>4174.000000</td>\n",
              "      <td>4792.000000</td>\n",
              "      <td>3697.000000</td>\n",
              "      <td>6.200000e+01</td>\n",
              "      <td>7.130000e+02</td>\n",
              "      <td>1.000000e+00</td>\n",
              "    </tr>\n",
              "  </tbody>\n",
              "</table>\n",
              "</div>\n",
              "      <button class=\"colab-df-convert\" onclick=\"convertToInteractive('df-7e214afc-4043-49f5-8e7c-a13786ab777b')\"\n",
              "              title=\"Convert this dataframe to an interactive table.\"\n",
              "              style=\"display:none;\">\n",
              "        \n",
              "  <svg xmlns=\"http://www.w3.org/2000/svg\" height=\"24px\"viewBox=\"0 0 24 24\"\n",
              "       width=\"24px\">\n",
              "    <path d=\"M0 0h24v24H0V0z\" fill=\"none\"/>\n",
              "    <path d=\"M18.56 5.44l.94 2.06.94-2.06 2.06-.94-2.06-.94-.94-2.06-.94 2.06-2.06.94zm-11 1L8.5 8.5l.94-2.06 2.06-.94-2.06-.94L8.5 2.5l-.94 2.06-2.06.94zm10 10l.94 2.06.94-2.06 2.06-.94-2.06-.94-.94-2.06-.94 2.06-2.06.94z\"/><path d=\"M17.41 7.96l-1.37-1.37c-.4-.4-.92-.59-1.43-.59-.52 0-1.04.2-1.43.59L10.3 9.45l-7.72 7.72c-.78.78-.78 2.05 0 2.83L4 21.41c.39.39.9.59 1.41.59.51 0 1.02-.2 1.41-.59l7.78-7.78 2.81-2.81c.8-.78.8-2.07 0-2.86zM5.41 20L4 18.59l7.72-7.72 1.47 1.35L5.41 20z\"/>\n",
              "  </svg>\n",
              "      </button>\n",
              "      \n",
              "  <style>\n",
              "    .colab-df-container {\n",
              "      display:flex;\n",
              "      flex-wrap:wrap;\n",
              "      gap: 12px;\n",
              "    }\n",
              "\n",
              "    .colab-df-convert {\n",
              "      background-color: #E8F0FE;\n",
              "      border: none;\n",
              "      border-radius: 50%;\n",
              "      cursor: pointer;\n",
              "      display: none;\n",
              "      fill: #1967D2;\n",
              "      height: 32px;\n",
              "      padding: 0 0 0 0;\n",
              "      width: 32px;\n",
              "    }\n",
              "\n",
              "    .colab-df-convert:hover {\n",
              "      background-color: #E2EBFA;\n",
              "      box-shadow: 0px 1px 2px rgba(60, 64, 67, 0.3), 0px 1px 3px 1px rgba(60, 64, 67, 0.15);\n",
              "      fill: #174EA6;\n",
              "    }\n",
              "\n",
              "    [theme=dark] .colab-df-convert {\n",
              "      background-color: #3B4455;\n",
              "      fill: #D2E3FC;\n",
              "    }\n",
              "\n",
              "    [theme=dark] .colab-df-convert:hover {\n",
              "      background-color: #434B5C;\n",
              "      box-shadow: 0px 1px 3px 1px rgba(0, 0, 0, 0.15);\n",
              "      filter: drop-shadow(0px 1px 2px rgba(0, 0, 0, 0.3));\n",
              "      fill: #FFFFFF;\n",
              "    }\n",
              "  </style>\n",
              "\n",
              "      <script>\n",
              "        const buttonEl =\n",
              "          document.querySelector('#df-7e214afc-4043-49f5-8e7c-a13786ab777b button.colab-df-convert');\n",
              "        buttonEl.style.display =\n",
              "          google.colab.kernel.accessAllowed ? 'block' : 'none';\n",
              "\n",
              "        async function convertToInteractive(key) {\n",
              "          const element = document.querySelector('#df-7e214afc-4043-49f5-8e7c-a13786ab777b');\n",
              "          const dataTable =\n",
              "            await google.colab.kernel.invokeFunction('convertToInteractive',\n",
              "                                                     [key], {});\n",
              "          if (!dataTable) return;\n",
              "\n",
              "          const docLinkHtml = 'Like what you see? Visit the ' +\n",
              "            '<a target=\"_blank\" href=https://colab.research.google.com/notebooks/data_table.ipynb>data table notebook</a>'\n",
              "            + ' to learn more about interactive tables.';\n",
              "          element.innerHTML = '';\n",
              "          dataTable['output_type'] = 'display_data';\n",
              "          await google.colab.output.renderOutput(dataTable, element);\n",
              "          const docLink = document.createElement('div');\n",
              "          docLink.innerHTML = docLinkHtml;\n",
              "          element.appendChild(docLink);\n",
              "        }\n",
              "      </script>\n",
              "    </div>\n",
              "  </div>\n",
              "  "
            ],
            "text/plain": [
              "            MONTANT  FREQUENCE_RECH  ...  FREQ_TOP_PACK         CHURN\n",
              "count  1.397309e+06    1.397309e+06  ...   1.251454e+06  2.154048e+06\n",
              "mean   5.532117e+03    1.152912e+01  ...   9.272461e+00  1.875474e-01\n",
              "std    7.111339e+03    1.327407e+01  ...   1.228044e+01  3.903504e-01\n",
              "min    1.000000e+01    1.000000e+00  ...   1.000000e+00  0.000000e+00\n",
              "25%    1.000000e+03    2.000000e+00  ...   2.000000e+00  0.000000e+00\n",
              "50%    3.000000e+03    7.000000e+00  ...   5.000000e+00  0.000000e+00\n",
              "75%    7.350000e+03    1.600000e+01  ...   1.200000e+01  0.000000e+00\n",
              "max    4.700000e+05    1.330000e+02  ...   7.130000e+02  1.000000e+00\n",
              "\n",
              "[8 rows x 14 columns]"
            ]
          },
          "metadata": {},
          "execution_count": 6
        }
      ]
    },
    {
      "cell_type": "code",
      "metadata": {
        "colab": {
          "base_uri": "https://localhost:8080/"
        },
        "id": "zlAG9OWXYWcg",
        "outputId": "b220dc3e-4934-4da2-ff93-883a5c6aa9ca"
      },
      "source": [
        "expresso_churn_df.isnull().sum()"
      ],
      "execution_count": 7,
      "outputs": [
        {
          "output_type": "execute_result",
          "data": {
            "text/plain": [
              "user_id                 0\n",
              "REGION             849299\n",
              "TENURE                  0\n",
              "MONTANT            756739\n",
              "FREQUENCE_RECH     756739\n",
              "REVENUE            726048\n",
              "ARPU_SEGMENT       726048\n",
              "FREQUENCE          726048\n",
              "DATA_VOLUME       1060433\n",
              "ON_NET             786675\n",
              "ORANGE             895248\n",
              "TIGO              1290016\n",
              "ZONE1             1984327\n",
              "ZONE2             2017224\n",
              "MRG                     0\n",
              "REGULARITY              0\n",
              "TOP_PACK           902594\n",
              "FREQ_TOP_PACK      902594\n",
              "CHURN                   0\n",
              "dtype: int64"
            ]
          },
          "metadata": {},
          "execution_count": 7
        }
      ]
    },
    {
      "cell_type": "code",
      "metadata": {
        "id": "l-RfncgF1lfX"
      },
      "source": [
        "# Remove any row with more than 50% missing values\n",
        "expresso_churn_few_nulls = expresso_churn_df [ expresso_churn_df.count(axis=1) > int(expresso_churn_df.shape[1] * 0.5)] "
      ],
      "execution_count": 8,
      "outputs": []
    },
    {
      "cell_type": "code",
      "metadata": {
        "colab": {
          "base_uri": "https://localhost:8080/",
          "height": 644
        },
        "id": "r4LeHLLLjhil",
        "outputId": "b0b6590d-38b4-46bb-df03-6b57c0f6a7d9"
      },
      "source": [
        "columns = ['Non-null','Dtype','Unique'] \n",
        "df = pd.DataFrame([expresso_churn_few_nulls.count(),expresso_churn_few_nulls.dtypes,  \n",
        "              expresso_churn_few_nulls.nunique()]).T\n",
        "df.columns = columns\n",
        "df"
      ],
      "execution_count": 9,
      "outputs": [
        {
          "output_type": "execute_result",
          "data": {
            "text/html": [
              "\n",
              "  <div id=\"df-87808ae9-3a19-4a08-a528-0263d6f34096\">\n",
              "    <div class=\"colab-df-container\">\n",
              "      <div>\n",
              "<style scoped>\n",
              "    .dataframe tbody tr th:only-of-type {\n",
              "        vertical-align: middle;\n",
              "    }\n",
              "\n",
              "    .dataframe tbody tr th {\n",
              "        vertical-align: top;\n",
              "    }\n",
              "\n",
              "    .dataframe thead th {\n",
              "        text-align: right;\n",
              "    }\n",
              "</style>\n",
              "<table border=\"1\" class=\"dataframe\">\n",
              "  <thead>\n",
              "    <tr style=\"text-align: right;\">\n",
              "      <th></th>\n",
              "      <th>Non-null</th>\n",
              "      <th>Dtype</th>\n",
              "      <th>Unique</th>\n",
              "    </tr>\n",
              "  </thead>\n",
              "  <tbody>\n",
              "    <tr>\n",
              "      <th>user_id</th>\n",
              "      <td>1406999</td>\n",
              "      <td>object</td>\n",
              "      <td>1406999</td>\n",
              "    </tr>\n",
              "    <tr>\n",
              "      <th>REGION</th>\n",
              "      <td>1109054</td>\n",
              "      <td>object</td>\n",
              "      <td>14</td>\n",
              "    </tr>\n",
              "    <tr>\n",
              "      <th>TENURE</th>\n",
              "      <td>1406999</td>\n",
              "      <td>object</td>\n",
              "      <td>8</td>\n",
              "    </tr>\n",
              "    <tr>\n",
              "      <th>MONTANT</th>\n",
              "      <td>1376829</td>\n",
              "      <td>float64</td>\n",
              "      <td>6531</td>\n",
              "    </tr>\n",
              "    <tr>\n",
              "      <th>FREQUENCE_RECH</th>\n",
              "      <td>1376829</td>\n",
              "      <td>float64</td>\n",
              "      <td>123</td>\n",
              "    </tr>\n",
              "    <tr>\n",
              "      <th>REVENUE</th>\n",
              "      <td>1403430</td>\n",
              "      <td>float64</td>\n",
              "      <td>38110</td>\n",
              "    </tr>\n",
              "    <tr>\n",
              "      <th>ARPU_SEGMENT</th>\n",
              "      <td>1403430</td>\n",
              "      <td>float64</td>\n",
              "      <td>16534</td>\n",
              "    </tr>\n",
              "    <tr>\n",
              "      <th>FREQUENCE</th>\n",
              "      <td>1403430</td>\n",
              "      <td>float64</td>\n",
              "      <td>91</td>\n",
              "    </tr>\n",
              "    <tr>\n",
              "      <th>DATA_VOLUME</th>\n",
              "      <td>948749</td>\n",
              "      <td>float64</td>\n",
              "      <td>41441</td>\n",
              "    </tr>\n",
              "    <tr>\n",
              "      <th>ON_NET</th>\n",
              "      <td>1256145</td>\n",
              "      <td>float64</td>\n",
              "      <td>9881</td>\n",
              "    </tr>\n",
              "    <tr>\n",
              "      <th>ORANGE</th>\n",
              "      <td>1245405</td>\n",
              "      <td>float64</td>\n",
              "      <td>3166</td>\n",
              "    </tr>\n",
              "    <tr>\n",
              "      <th>TIGO</th>\n",
              "      <td>859420</td>\n",
              "      <td>float64</td>\n",
              "      <td>1315</td>\n",
              "    </tr>\n",
              "    <tr>\n",
              "      <th>ZONE1</th>\n",
              "      <td>164067</td>\n",
              "      <td>float64</td>\n",
              "      <td>612</td>\n",
              "    </tr>\n",
              "    <tr>\n",
              "      <th>ZONE2</th>\n",
              "      <td>136570</td>\n",
              "      <td>float64</td>\n",
              "      <td>486</td>\n",
              "    </tr>\n",
              "    <tr>\n",
              "      <th>MRG</th>\n",
              "      <td>1406999</td>\n",
              "      <td>object</td>\n",
              "      <td>1</td>\n",
              "    </tr>\n",
              "    <tr>\n",
              "      <th>REGULARITY</th>\n",
              "      <td>1406999</td>\n",
              "      <td>int64</td>\n",
              "      <td>62</td>\n",
              "    </tr>\n",
              "    <tr>\n",
              "      <th>TOP_PACK</th>\n",
              "      <td>1251393</td>\n",
              "      <td>object</td>\n",
              "      <td>140</td>\n",
              "    </tr>\n",
              "    <tr>\n",
              "      <th>FREQ_TOP_PACK</th>\n",
              "      <td>1251393</td>\n",
              "      <td>float64</td>\n",
              "      <td>245</td>\n",
              "    </tr>\n",
              "    <tr>\n",
              "      <th>CHURN</th>\n",
              "      <td>1406999</td>\n",
              "      <td>int64</td>\n",
              "      <td>2</td>\n",
              "    </tr>\n",
              "  </tbody>\n",
              "</table>\n",
              "</div>\n",
              "      <button class=\"colab-df-convert\" onclick=\"convertToInteractive('df-87808ae9-3a19-4a08-a528-0263d6f34096')\"\n",
              "              title=\"Convert this dataframe to an interactive table.\"\n",
              "              style=\"display:none;\">\n",
              "        \n",
              "  <svg xmlns=\"http://www.w3.org/2000/svg\" height=\"24px\"viewBox=\"0 0 24 24\"\n",
              "       width=\"24px\">\n",
              "    <path d=\"M0 0h24v24H0V0z\" fill=\"none\"/>\n",
              "    <path d=\"M18.56 5.44l.94 2.06.94-2.06 2.06-.94-2.06-.94-.94-2.06-.94 2.06-2.06.94zm-11 1L8.5 8.5l.94-2.06 2.06-.94-2.06-.94L8.5 2.5l-.94 2.06-2.06.94zm10 10l.94 2.06.94-2.06 2.06-.94-2.06-.94-.94-2.06-.94 2.06-2.06.94z\"/><path d=\"M17.41 7.96l-1.37-1.37c-.4-.4-.92-.59-1.43-.59-.52 0-1.04.2-1.43.59L10.3 9.45l-7.72 7.72c-.78.78-.78 2.05 0 2.83L4 21.41c.39.39.9.59 1.41.59.51 0 1.02-.2 1.41-.59l7.78-7.78 2.81-2.81c.8-.78.8-2.07 0-2.86zM5.41 20L4 18.59l7.72-7.72 1.47 1.35L5.41 20z\"/>\n",
              "  </svg>\n",
              "      </button>\n",
              "      \n",
              "  <style>\n",
              "    .colab-df-container {\n",
              "      display:flex;\n",
              "      flex-wrap:wrap;\n",
              "      gap: 12px;\n",
              "    }\n",
              "\n",
              "    .colab-df-convert {\n",
              "      background-color: #E8F0FE;\n",
              "      border: none;\n",
              "      border-radius: 50%;\n",
              "      cursor: pointer;\n",
              "      display: none;\n",
              "      fill: #1967D2;\n",
              "      height: 32px;\n",
              "      padding: 0 0 0 0;\n",
              "      width: 32px;\n",
              "    }\n",
              "\n",
              "    .colab-df-convert:hover {\n",
              "      background-color: #E2EBFA;\n",
              "      box-shadow: 0px 1px 2px rgba(60, 64, 67, 0.3), 0px 1px 3px 1px rgba(60, 64, 67, 0.15);\n",
              "      fill: #174EA6;\n",
              "    }\n",
              "\n",
              "    [theme=dark] .colab-df-convert {\n",
              "      background-color: #3B4455;\n",
              "      fill: #D2E3FC;\n",
              "    }\n",
              "\n",
              "    [theme=dark] .colab-df-convert:hover {\n",
              "      background-color: #434B5C;\n",
              "      box-shadow: 0px 1px 3px 1px rgba(0, 0, 0, 0.15);\n",
              "      filter: drop-shadow(0px 1px 2px rgba(0, 0, 0, 0.3));\n",
              "      fill: #FFFFFF;\n",
              "    }\n",
              "  </style>\n",
              "\n",
              "      <script>\n",
              "        const buttonEl =\n",
              "          document.querySelector('#df-87808ae9-3a19-4a08-a528-0263d6f34096 button.colab-df-convert');\n",
              "        buttonEl.style.display =\n",
              "          google.colab.kernel.accessAllowed ? 'block' : 'none';\n",
              "\n",
              "        async function convertToInteractive(key) {\n",
              "          const element = document.querySelector('#df-87808ae9-3a19-4a08-a528-0263d6f34096');\n",
              "          const dataTable =\n",
              "            await google.colab.kernel.invokeFunction('convertToInteractive',\n",
              "                                                     [key], {});\n",
              "          if (!dataTable) return;\n",
              "\n",
              "          const docLinkHtml = 'Like what you see? Visit the ' +\n",
              "            '<a target=\"_blank\" href=https://colab.research.google.com/notebooks/data_table.ipynb>data table notebook</a>'\n",
              "            + ' to learn more about interactive tables.';\n",
              "          element.innerHTML = '';\n",
              "          dataTable['output_type'] = 'display_data';\n",
              "          await google.colab.output.renderOutput(dataTable, element);\n",
              "          const docLink = document.createElement('div');\n",
              "          docLink.innerHTML = docLinkHtml;\n",
              "          element.appendChild(docLink);\n",
              "        }\n",
              "      </script>\n",
              "    </div>\n",
              "  </div>\n",
              "  "
            ],
            "text/plain": [
              "               Non-null    Dtype   Unique\n",
              "user_id         1406999   object  1406999\n",
              "REGION          1109054   object       14\n",
              "TENURE          1406999   object        8\n",
              "MONTANT         1376829  float64     6531\n",
              "FREQUENCE_RECH  1376829  float64      123\n",
              "REVENUE         1403430  float64    38110\n",
              "ARPU_SEGMENT    1403430  float64    16534\n",
              "FREQUENCE       1403430  float64       91\n",
              "DATA_VOLUME      948749  float64    41441\n",
              "ON_NET          1256145  float64     9881\n",
              "ORANGE          1245405  float64     3166\n",
              "TIGO             859420  float64     1315\n",
              "ZONE1            164067  float64      612\n",
              "ZONE2            136570  float64      486\n",
              "MRG             1406999   object        1\n",
              "REGULARITY      1406999    int64       62\n",
              "TOP_PACK        1251393   object      140\n",
              "FREQ_TOP_PACK   1251393  float64      245\n",
              "CHURN           1406999    int64        2"
            ]
          },
          "metadata": {},
          "execution_count": 9
        }
      ]
    },
    {
      "cell_type": "code",
      "metadata": {
        "colab": {
          "base_uri": "https://localhost:8080/"
        },
        "id": "CPJLkhY8ZwFe",
        "outputId": "dc658b21-e58f-4540-86c3-33cb7e561719"
      },
      "source": [
        "expresso_churn_few_nulls.isnull().sum()"
      ],
      "execution_count": 10,
      "outputs": [
        {
          "output_type": "execute_result",
          "data": {
            "text/plain": [
              "user_id                 0\n",
              "REGION             297945\n",
              "TENURE                  0\n",
              "MONTANT             30170\n",
              "FREQUENCE_RECH      30170\n",
              "REVENUE              3569\n",
              "ARPU_SEGMENT         3569\n",
              "FREQUENCE            3569\n",
              "DATA_VOLUME        458250\n",
              "ON_NET             150854\n",
              "ORANGE             161594\n",
              "TIGO               547579\n",
              "ZONE1             1242932\n",
              "ZONE2             1270429\n",
              "MRG                     0\n",
              "REGULARITY              0\n",
              "TOP_PACK           155606\n",
              "FREQ_TOP_PACK      155606\n",
              "CHURN                   0\n",
              "dtype: int64"
            ]
          },
          "metadata": {},
          "execution_count": 10
        }
      ]
    },
    {
      "cell_type": "code",
      "metadata": {
        "colab": {
          "base_uri": "https://localhost:8080/"
        },
        "id": "00OlJm0tkIBR",
        "outputId": "fe630dbb-257b-438c-a6c4-f6d8cf7bd15a"
      },
      "source": [
        "expresso_churn_few_nulls.columns"
      ],
      "execution_count": 11,
      "outputs": [
        {
          "output_type": "execute_result",
          "data": {
            "text/plain": [
              "Index(['user_id', 'REGION', 'TENURE', 'MONTANT', 'FREQUENCE_RECH', 'REVENUE',\n",
              "       'ARPU_SEGMENT', 'FREQUENCE', 'DATA_VOLUME', 'ON_NET', 'ORANGE', 'TIGO',\n",
              "       'ZONE1', 'ZONE2', 'MRG', 'REGULARITY', 'TOP_PACK', 'FREQ_TOP_PACK',\n",
              "       'CHURN'],\n",
              "      dtype='object')"
            ]
          },
          "metadata": {},
          "execution_count": 11
        }
      ]
    },
    {
      "cell_type": "code",
      "metadata": {
        "id": "DywPFY-jG6tl"
      },
      "source": [
        "fill_not_given = ['REGION', 'TENURE','TOP_PACK']\n",
        "fill_zeros = [ 'FREQUENCE_RECH','MONTANT','DATA_VOLUME','REVENUE' , 'ARPU_SEGMENT','FREQUENCE',\n",
        "              'ON_NET', 'ORANGE', 'TIGO', 'ZONE1', 'ZONE2' ,'FREQ_TOP_PACK' ]\n",
        "              #Assume Nan Revenue implies they don't earn\n",
        "              # Therefor ARPU_SEGMENT will ,FREQUENCE will also be zeros, if revenues is zero\n",
        "expresso_churn_few_nulls[fill_not_given] = expresso_churn_few_nulls[fill_not_given].fillna('NotGiven')\n",
        "expresso_churn_few_nulls[fill_zeros] = expresso_churn_few_nulls[fill_zeros].fillna(0)\n",
        "\n",
        "# Those to fill with the mode\n",
        "null_count_series = expresso_churn_few_nulls.isnull().sum()\n",
        "fill_mode = null_count_series.index[ null_count_series > 0 ]\n",
        "\n",
        "for col in expresso_churn_few_nulls.columns:\n",
        "  my_series = expresso_churn_few_nulls.loc[:,col]\n",
        "  col_mode = my_series.mode()\n",
        "  expresso_churn_few_nulls.loc[:,col]  = my_series.fillna(col_mode)\n",
        "  expresso_churn_few_nulls.loc[:,col]  = np.nan_to_num(my_series, \n",
        "                                                 copy = False, \n",
        "                                                 nan = col_mode, \n",
        "                                                 posinf = col_mode, \n",
        "                                                 neginf = col_mode)\n"
      ],
      "execution_count": 12,
      "outputs": []
    },
    {
      "cell_type": "code",
      "metadata": {
        "id": "cWKH05HxIljc"
      },
      "source": [
        "# Total Number of Columns\n",
        "expresso_churn_few_nulls['TOTAL_CALLS'] = expresso_churn_few_nulls[['ON_NET','ORANGE','TIGO','ZONE1','ZONE2']].sum(axis=1)"
      ],
      "execution_count": 13,
      "outputs": []
    },
    {
      "cell_type": "code",
      "metadata": {
        "id": "utdNJ6S4n7fJ",
        "colab": {
          "base_uri": "https://localhost:8080/",
          "height": 676
        },
        "outputId": "21170267-428f-4ae2-b98c-8ac43d20ba73"
      },
      "source": [
        "columns = ['Non-null','Dtype','Unique'] \n",
        "df = pd.DataFrame([expresso_churn_few_nulls.count(),expresso_churn_few_nulls.dtypes,  \n",
        "              expresso_churn_few_nulls.nunique()]).T\n",
        "df.columns = columns\n",
        "df"
      ],
      "execution_count": 14,
      "outputs": [
        {
          "output_type": "execute_result",
          "data": {
            "text/html": [
              "\n",
              "  <div id=\"df-b5220646-0941-4c74-87f4-ec336e26eedc\">\n",
              "    <div class=\"colab-df-container\">\n",
              "      <div>\n",
              "<style scoped>\n",
              "    .dataframe tbody tr th:only-of-type {\n",
              "        vertical-align: middle;\n",
              "    }\n",
              "\n",
              "    .dataframe tbody tr th {\n",
              "        vertical-align: top;\n",
              "    }\n",
              "\n",
              "    .dataframe thead th {\n",
              "        text-align: right;\n",
              "    }\n",
              "</style>\n",
              "<table border=\"1\" class=\"dataframe\">\n",
              "  <thead>\n",
              "    <tr style=\"text-align: right;\">\n",
              "      <th></th>\n",
              "      <th>Non-null</th>\n",
              "      <th>Dtype</th>\n",
              "      <th>Unique</th>\n",
              "    </tr>\n",
              "  </thead>\n",
              "  <tbody>\n",
              "    <tr>\n",
              "      <th>user_id</th>\n",
              "      <td>1406999</td>\n",
              "      <td>object</td>\n",
              "      <td>1406999</td>\n",
              "    </tr>\n",
              "    <tr>\n",
              "      <th>REGION</th>\n",
              "      <td>1406999</td>\n",
              "      <td>object</td>\n",
              "      <td>15</td>\n",
              "    </tr>\n",
              "    <tr>\n",
              "      <th>TENURE</th>\n",
              "      <td>1406999</td>\n",
              "      <td>object</td>\n",
              "      <td>8</td>\n",
              "    </tr>\n",
              "    <tr>\n",
              "      <th>MONTANT</th>\n",
              "      <td>1406999</td>\n",
              "      <td>float64</td>\n",
              "      <td>6532</td>\n",
              "    </tr>\n",
              "    <tr>\n",
              "      <th>FREQUENCE_RECH</th>\n",
              "      <td>1406999</td>\n",
              "      <td>float64</td>\n",
              "      <td>124</td>\n",
              "    </tr>\n",
              "    <tr>\n",
              "      <th>REVENUE</th>\n",
              "      <td>1406999</td>\n",
              "      <td>float64</td>\n",
              "      <td>38111</td>\n",
              "    </tr>\n",
              "    <tr>\n",
              "      <th>ARPU_SEGMENT</th>\n",
              "      <td>1406999</td>\n",
              "      <td>float64</td>\n",
              "      <td>16534</td>\n",
              "    </tr>\n",
              "    <tr>\n",
              "      <th>FREQUENCE</th>\n",
              "      <td>1406999</td>\n",
              "      <td>float64</td>\n",
              "      <td>92</td>\n",
              "    </tr>\n",
              "    <tr>\n",
              "      <th>DATA_VOLUME</th>\n",
              "      <td>1406999</td>\n",
              "      <td>float64</td>\n",
              "      <td>41441</td>\n",
              "    </tr>\n",
              "    <tr>\n",
              "      <th>ON_NET</th>\n",
              "      <td>1406999</td>\n",
              "      <td>float64</td>\n",
              "      <td>9881</td>\n",
              "    </tr>\n",
              "    <tr>\n",
              "      <th>ORANGE</th>\n",
              "      <td>1406999</td>\n",
              "      <td>float64</td>\n",
              "      <td>3166</td>\n",
              "    </tr>\n",
              "    <tr>\n",
              "      <th>TIGO</th>\n",
              "      <td>1406999</td>\n",
              "      <td>float64</td>\n",
              "      <td>1315</td>\n",
              "    </tr>\n",
              "    <tr>\n",
              "      <th>ZONE1</th>\n",
              "      <td>1406999</td>\n",
              "      <td>float64</td>\n",
              "      <td>612</td>\n",
              "    </tr>\n",
              "    <tr>\n",
              "      <th>ZONE2</th>\n",
              "      <td>1406999</td>\n",
              "      <td>float64</td>\n",
              "      <td>486</td>\n",
              "    </tr>\n",
              "    <tr>\n",
              "      <th>MRG</th>\n",
              "      <td>1406999</td>\n",
              "      <td>object</td>\n",
              "      <td>1</td>\n",
              "    </tr>\n",
              "    <tr>\n",
              "      <th>REGULARITY</th>\n",
              "      <td>1406999</td>\n",
              "      <td>int64</td>\n",
              "      <td>62</td>\n",
              "    </tr>\n",
              "    <tr>\n",
              "      <th>TOP_PACK</th>\n",
              "      <td>1406999</td>\n",
              "      <td>object</td>\n",
              "      <td>141</td>\n",
              "    </tr>\n",
              "    <tr>\n",
              "      <th>FREQ_TOP_PACK</th>\n",
              "      <td>1406999</td>\n",
              "      <td>float64</td>\n",
              "      <td>246</td>\n",
              "    </tr>\n",
              "    <tr>\n",
              "      <th>CHURN</th>\n",
              "      <td>1406999</td>\n",
              "      <td>int64</td>\n",
              "      <td>2</td>\n",
              "    </tr>\n",
              "    <tr>\n",
              "      <th>TOTAL_CALLS</th>\n",
              "      <td>1406999</td>\n",
              "      <td>float64</td>\n",
              "      <td>10246</td>\n",
              "    </tr>\n",
              "  </tbody>\n",
              "</table>\n",
              "</div>\n",
              "      <button class=\"colab-df-convert\" onclick=\"convertToInteractive('df-b5220646-0941-4c74-87f4-ec336e26eedc')\"\n",
              "              title=\"Convert this dataframe to an interactive table.\"\n",
              "              style=\"display:none;\">\n",
              "        \n",
              "  <svg xmlns=\"http://www.w3.org/2000/svg\" height=\"24px\"viewBox=\"0 0 24 24\"\n",
              "       width=\"24px\">\n",
              "    <path d=\"M0 0h24v24H0V0z\" fill=\"none\"/>\n",
              "    <path d=\"M18.56 5.44l.94 2.06.94-2.06 2.06-.94-2.06-.94-.94-2.06-.94 2.06-2.06.94zm-11 1L8.5 8.5l.94-2.06 2.06-.94-2.06-.94L8.5 2.5l-.94 2.06-2.06.94zm10 10l.94 2.06.94-2.06 2.06-.94-2.06-.94-.94-2.06-.94 2.06-2.06.94z\"/><path d=\"M17.41 7.96l-1.37-1.37c-.4-.4-.92-.59-1.43-.59-.52 0-1.04.2-1.43.59L10.3 9.45l-7.72 7.72c-.78.78-.78 2.05 0 2.83L4 21.41c.39.39.9.59 1.41.59.51 0 1.02-.2 1.41-.59l7.78-7.78 2.81-2.81c.8-.78.8-2.07 0-2.86zM5.41 20L4 18.59l7.72-7.72 1.47 1.35L5.41 20z\"/>\n",
              "  </svg>\n",
              "      </button>\n",
              "      \n",
              "  <style>\n",
              "    .colab-df-container {\n",
              "      display:flex;\n",
              "      flex-wrap:wrap;\n",
              "      gap: 12px;\n",
              "    }\n",
              "\n",
              "    .colab-df-convert {\n",
              "      background-color: #E8F0FE;\n",
              "      border: none;\n",
              "      border-radius: 50%;\n",
              "      cursor: pointer;\n",
              "      display: none;\n",
              "      fill: #1967D2;\n",
              "      height: 32px;\n",
              "      padding: 0 0 0 0;\n",
              "      width: 32px;\n",
              "    }\n",
              "\n",
              "    .colab-df-convert:hover {\n",
              "      background-color: #E2EBFA;\n",
              "      box-shadow: 0px 1px 2px rgba(60, 64, 67, 0.3), 0px 1px 3px 1px rgba(60, 64, 67, 0.15);\n",
              "      fill: #174EA6;\n",
              "    }\n",
              "\n",
              "    [theme=dark] .colab-df-convert {\n",
              "      background-color: #3B4455;\n",
              "      fill: #D2E3FC;\n",
              "    }\n",
              "\n",
              "    [theme=dark] .colab-df-convert:hover {\n",
              "      background-color: #434B5C;\n",
              "      box-shadow: 0px 1px 3px 1px rgba(0, 0, 0, 0.15);\n",
              "      filter: drop-shadow(0px 1px 2px rgba(0, 0, 0, 0.3));\n",
              "      fill: #FFFFFF;\n",
              "    }\n",
              "  </style>\n",
              "\n",
              "      <script>\n",
              "        const buttonEl =\n",
              "          document.querySelector('#df-b5220646-0941-4c74-87f4-ec336e26eedc button.colab-df-convert');\n",
              "        buttonEl.style.display =\n",
              "          google.colab.kernel.accessAllowed ? 'block' : 'none';\n",
              "\n",
              "        async function convertToInteractive(key) {\n",
              "          const element = document.querySelector('#df-b5220646-0941-4c74-87f4-ec336e26eedc');\n",
              "          const dataTable =\n",
              "            await google.colab.kernel.invokeFunction('convertToInteractive',\n",
              "                                                     [key], {});\n",
              "          if (!dataTable) return;\n",
              "\n",
              "          const docLinkHtml = 'Like what you see? Visit the ' +\n",
              "            '<a target=\"_blank\" href=https://colab.research.google.com/notebooks/data_table.ipynb>data table notebook</a>'\n",
              "            + ' to learn more about interactive tables.';\n",
              "          element.innerHTML = '';\n",
              "          dataTable['output_type'] = 'display_data';\n",
              "          await google.colab.output.renderOutput(dataTable, element);\n",
              "          const docLink = document.createElement('div');\n",
              "          docLink.innerHTML = docLinkHtml;\n",
              "          element.appendChild(docLink);\n",
              "        }\n",
              "      </script>\n",
              "    </div>\n",
              "  </div>\n",
              "  "
            ],
            "text/plain": [
              "               Non-null    Dtype   Unique\n",
              "user_id         1406999   object  1406999\n",
              "REGION          1406999   object       15\n",
              "TENURE          1406999   object        8\n",
              "MONTANT         1406999  float64     6532\n",
              "FREQUENCE_RECH  1406999  float64      124\n",
              "REVENUE         1406999  float64    38111\n",
              "ARPU_SEGMENT    1406999  float64    16534\n",
              "FREQUENCE       1406999  float64       92\n",
              "DATA_VOLUME     1406999  float64    41441\n",
              "ON_NET          1406999  float64     9881\n",
              "ORANGE          1406999  float64     3166\n",
              "TIGO            1406999  float64     1315\n",
              "ZONE1           1406999  float64      612\n",
              "ZONE2           1406999  float64      486\n",
              "MRG             1406999   object        1\n",
              "REGULARITY      1406999    int64       62\n",
              "TOP_PACK        1406999   object      141\n",
              "FREQ_TOP_PACK   1406999  float64      246\n",
              "CHURN           1406999    int64        2\n",
              "TOTAL_CALLS     1406999  float64    10246"
            ]
          },
          "metadata": {},
          "execution_count": 14
        }
      ]
    },
    {
      "cell_type": "code",
      "metadata": {
        "id": "kypL49EKtvW-"
      },
      "source": [
        ""
      ],
      "execution_count": 14,
      "outputs": []
    },
    {
      "cell_type": "code",
      "metadata": {
        "id": "iJWovPVpu0Sg"
      },
      "source": [
        "def plot_for_frequency_count(col_name, plot_title):\n",
        "  keys, values = np.unique(expresso_churn_few_nulls[col_name] , return_counts = True)\n",
        "  data_ = pd.DataFrame({'Region':keys, 'Values':values})\n",
        "\n",
        "  plt.figure(figsize = (17,7))\n",
        "\n",
        "  sns_plot = sns.barplot(x = 'Region' , y= 'Values', data= data_ )\n",
        "  for index, row in data_.iterrows():\n",
        "    sns_plot.text(row.name, row.Values ,row.Values, color='black', ha=\"center\",fontsize=14)\n",
        "\n",
        "  plt.title(plot_title)  \n",
        "  plt.show()"
      ],
      "execution_count": 15,
      "outputs": []
    },
    {
      "cell_type": "code",
      "metadata": {
        "id": "Ov2jzMKvu0Xt",
        "colab": {
          "base_uri": "https://localhost:8080/",
          "height": 457
        },
        "outputId": "e46e8889-cd51-430b-ef61-934cc81d7f68"
      },
      "source": [
        "plot_for_frequency_count('TENURE', 'Duration in the network')"
      ],
      "execution_count": 16,
      "outputs": [
        {
          "output_type": "display_data",
          "data": {
            "image/png": "[encoded data removed]",
            "text/plain": [
              "<Figure size 1224x504 with 1 Axes>"
            ]
          },
          "metadata": {
            "needs_background": "light"
          }
        }
      ]
    },
    {
      "cell_type": "code",
      "metadata": {
        "id": "hgiLzTvfu03T",
        "colab": {
          "base_uri": "https://localhost:8080/",
          "height": 457
        },
        "outputId": "da836179-6127-4042-e1f3-a5fb7d480e17"
      },
      "source": [
        "plot_for_frequency_count('REGION', 'SUBSCRIBERS PER REGION')"
      ],
      "execution_count": 17,
      "outputs": [
        {
          "output_type": "display_data",
          "data": {
            "image/png": "[encoded data removed]",
            "text/plain": [
              "<Figure size 1224x504 with 1 Axes>"
            ]
          },
          "metadata": {
            "needs_background": "light"
          }
        }
      ]
    },
    {
      "cell_type": "code",
      "metadata": {
        "id": "pnc0OeTkCVaM"
      },
      "source": [
        ""
      ],
      "execution_count": 18,
      "outputs": []
    },
    {
      "cell_type": "code",
      "metadata": {
        "id": "F7rvJ31UDP4X",
        "colab": {
          "base_uri": "https://localhost:8080/",
          "height": 463
        },
        "outputId": "f7391637-f508-4fa3-83eb-f5e2a2bc31f4"
      },
      "source": [
        "# Plot Volume of call to each 'LINE'/Call Service Provider\n",
        "\n",
        "total_vol_of_calls = expresso_churn_few_nulls[['ON_NET','ORANGE','TIGO','ZONE1','ZONE2']].sum().sum()\n",
        "per_csp = expresso_churn_few_nulls[['ON_NET','ORANGE','TIGO','ZONE1','ZONE2']].sum()\n",
        "percentage_volume = (per_csp  / total_vol_of_calls)*100\n",
        "\n",
        "\n",
        "call_vol_df = pd.DataFrame( {'Provider':per_csp.index ,\n",
        "                             'Volume':per_csp.values}  )\n",
        "\n",
        "plt.figure(figsize=(14,7))\n",
        "call_vol_plot = sns.barplot(x= 'Provider', y='Volume',data = call_vol_df)\n",
        "for percent, row_tupple in zip(percentage_volume, call_vol_df.iterrows() ):\n",
        "  \"\"\"\n",
        "  Zip the volume data with the percentage data and Iterate over them\n",
        "  The 'row' will be a tupple containing the index and value of that row\n",
        "  \"\"\"\n",
        "  row = row_tupple[1]\n",
        "  text = str(round(row.Volume/1000000, 1)) + ' (' + str(round(percent,1)) + '%)'\n",
        "  call_vol_plot.text(row.name, row.Volume, text, color= 'black', ha= 'center', fontsize=14,)\n",
        "\n",
        "plt.title('Call Volume to Other Providers (in Millions)', fontsize=17)\n",
        "plt.show()\n"
      ],
      "execution_count": 19,
      "outputs": [
        {
          "output_type": "display_data",
          "data": {
            "image/png": "[encoded data removed]",
            "text/plain": [
              "<Figure size 1008x504 with 1 Axes>"
            ]
          },
          "metadata": {
            "needs_background": "light"
          }
        }
      ]
    },
    {
      "cell_type": "code",
      "metadata": {
        "id": "GxK0W8EkFPc3"
      },
      "source": [
        ""
      ],
      "execution_count": 19,
      "outputs": []
    },
    {
      "cell_type": "code",
      "metadata": {
        "id": "54Oa-Ll7Ml-O",
        "colab": {
          "base_uri": "https://localhost:8080/",
          "height": 318
        },
        "outputId": "8393d266-4024-4a82-92d3-e1360de9d31a"
      },
      "source": [
        "# Churn ratios (Pie Chart)\n",
        "\n",
        "keys,values = np.unique(expresso_churn_few_nulls['CHURN'], return_counts=True)\n",
        "\n",
        "def func(percent, allvalues):\n",
        "  actual_val = round( (percent/100)*values.sum(), 1 )\n",
        "  return \"{:,d}\\n ({:.1f}%) \".format(int(actual_val), percent )\n",
        "\n",
        "plt.figure(figsize=(5,5))\n",
        "\n",
        "wedges, texts, autotexts = plt.pie(values, autopct=lambda x : func(x, values),\n",
        "                                   pctdistance = 0.6,\n",
        "                                   textprops = dict(color='black') ,\n",
        "                                   )\n",
        "\n",
        "legend  = plt.legend( wedges, [\"No\", \"Yes\"],\n",
        "           title = \"Churned\",\n",
        "           frameon = False,           \n",
        "           loc = \"best\",\n",
        "           bbox_to_anchor=(1, 0, 0.5, 1) ,\n",
        "           prop={'size': 14})\n",
        "\n",
        "plt.setp(autotexts, size=14  )\n",
        "plt.setp(legend.get_title(),fontsize=14)\n",
        "plt.title(\"EXPRESSO CHURN\")\n",
        "plt.show()\n"
      ],
      "execution_count": 20,
      "outputs": [
        {
          "output_type": "display_data",
          "data": {
            "image/png": "[encoded data removed]",
            "text/plain": [
              "<Figure size 360x360 with 1 Axes>"
            ]
          },
          "metadata": {}
        }
      ]
    },
    {
      "cell_type": "code",
      "metadata": {
        "id": "i5jVcyVodVKS"
      },
      "source": [
        ""
      ],
      "execution_count": 20,
      "outputs": []
    },
    {
      "cell_type": "code",
      "metadata": {
        "id": "-ivCSx-0_asm",
        "colab": {
          "base_uri": "https://localhost:8080/",
          "height": 444
        },
        "outputId": "3aa2d189-e783-4eeb-8312-8c43cc519b5f"
      },
      "source": [
        "# Churn Per Region\n",
        "cols = ['user_id',  'CHURN',  'REGION']\n",
        "churn_per_region = expresso_churn_few_nulls[cols].pivot_table(values = 'user_id',\n",
        "                                                          index='REGION', \n",
        "                                                          columns = 'CHURN' ,\n",
        "                                                          aggfunc= 'count')\n",
        "churn_per_region[1] = churn_per_region[1]*(-1)\n",
        "\n",
        "\n",
        "plt.figure(figsize=(20,7))\n",
        "\n",
        "ax = sns.barplot(x = churn_per_region.index.values ,\n",
        "                 y = churn_per_region[0] ,\n",
        "                 color = 'lightblue')\n",
        "ax = sns.barplot(x = churn_per_region.index.values ,\n",
        "                 y = churn_per_region[1] ,\n",
        "                 color = 'gray')\n",
        "\n",
        "\n",
        "for plot in ax.patches:\n",
        "  signed = 1\n",
        "  selected_color = 'black'\n",
        "  if plot.get_height() < 0:\n",
        "    signed = -1\n",
        "    selected_color = 'red'\n",
        "\n",
        "  ax.annotate( '{:,d}'.format(abs(int(plot.get_height())) ),\n",
        "              (plot.get_x() + plot.get_width() / 2,\n",
        "              plot.get_height()), ha='center', va='center',\n",
        "              size=10, xytext=(0, signed*10),\n",
        "              textcoords='offset points' , \n",
        "              color = selected_color\n",
        "              )\n",
        "  \n",
        "plt.ylim( churn_per_region[1].min()-100000, churn_per_region[0].max()+100000)\n",
        "plt.tick_params( right=False, left = False, labelleft = False) \n",
        "plt.title('CHURN NUMBERS PER REGION')\n",
        "plt.show()\n"
      ],
      "execution_count": 21,
      "outputs": [
        {
          "output_type": "display_data",
          "data": {
            "image/png": "[encoded data removed]",
            "text/plain": [
              "<Figure size 1440x504 with 1 Axes>"
            ]
          },
          "metadata": {
            "needs_background": "light"
          }
        }
      ]
    },
    {
      "cell_type": "code",
      "metadata": {
        "id": "5pv4PZS6wZlp"
      },
      "source": [
        ""
      ],
      "execution_count": 21,
      "outputs": []
    },
    {
      "cell_type": "code",
      "metadata": {
        "id": "SwXYYzgTRPG0",
        "colab": {
          "base_uri": "https://localhost:8080/",
          "height": 621
        },
        "outputId": "f087568a-14f0-4b98-bf01-153e4ac916e8"
      },
      "source": [
        "# Call volume per region to various CSPs\n",
        "cols = ['REGION','ON_NET', 'ORANGE', 'TIGO',\t'ZONE1',\t'ZONE2']\n",
        "csp_cols = ['ON_NET', 'ORANGE', 'TIGO',\t'ZONE1',\t'ZONE2']\n",
        "\n",
        "call_vol_per_region = expresso_churn_few_nulls[cols].groupby('REGION').agg('sum')\n",
        "call_vol_per_region = call_vol_per_region.sort_values(csp_cols,\n",
        "                                ascending = True )\n",
        "\n",
        "\n",
        "fig  = plt.figure(figsize=(17,10))\n",
        "ax = fig.subplots()\n",
        "\n",
        "h1 = ax.barh(call_vol_per_region.index.values ,\n",
        "       call_vol_per_region['ON_NET'] ,\n",
        "       label = 'ON_NET')\n",
        "h2 = ax.barh(call_vol_per_region.index.values ,\n",
        "       call_vol_per_region['ORANGE'],\n",
        "       label = 'ORANGE')\n",
        "h3 = ax.barh(call_vol_per_region.index.values ,\n",
        "       call_vol_per_region['TIGO'],\n",
        "       label = 'TIGO')\n",
        "h4 = ax.barh(call_vol_per_region.index.values ,\n",
        "       call_vol_per_region['ZONE1'],\n",
        "       label = 'ZONE1')\n",
        "h5 = ax.barh(call_vol_per_region.index.values ,\n",
        "       call_vol_per_region['ZONE2'],\n",
        "       label = 'ZONE2')\n",
        "\n",
        "for r1, r2, r3, r4, r5 in zip(h1, h2, h3, h4, h5):\n",
        "    h1 = r1.get_width()\n",
        "    h2 = r2.get_width()\n",
        "    h3 = r3.get_width()\n",
        "    h4 = r4.get_width()\n",
        "    h5 = r5.get_width()\n",
        "    \n",
        "    y = r1.get_y()+r1.get_height()/2\n",
        "    x = h1+ h2+ h3+ h4+ h5 # Last value total + prev value end\n",
        "    x_pos = h1+ r1.get_x() + 7000000\n",
        "\n",
        "    plt.text(x_pos, y, '{:,.0f}'.format(x), ha = 'center', va='bottom')\n",
        "    \n",
        "\n",
        "plt.legend(title = 'Call Service Provider', loc='best')\n",
        "x_limit  = call_vol_per_region.sum(axis=1).max()+1000\n",
        "plt.xlim(0 , x_limit)\n",
        "plt.title('Call Volume(Per region) to various providers ')\n",
        "plt.show()\n"
      ],
      "execution_count": 22,
      "outputs": [
        {
          "output_type": "display_data",
          "data": {
            "image/png": "[encoded data removed]",
            "text/plain": [
              "<Figure size 1224x720 with 1 Axes>"
            ]
          },
          "metadata": {
            "needs_background": "light"
          }
        }
      ]
    },
    {
      "cell_type": "code",
      "metadata": {
        "id": "xVug-ZqIqHmd"
      },
      "source": [
        ""
      ],
      "execution_count": 22,
      "outputs": []
    },
    {
      "cell_type": "code",
      "metadata": {
        "id": "BuxvOduHbUL6"
      },
      "source": [
        ""
      ],
      "execution_count": 22,
      "outputs": []
    },
    {
      "cell_type": "markdown",
      "metadata": {
        "id": "gIaWJuNiH-RC"
      },
      "source": [
        "# Converting the categorical Data"
      ]
    },
    {
      "cell_type": "code",
      "metadata": {
        "id": "sThsscmeHVAs",
        "colab": {
          "base_uri": "https://localhost:8080/",
          "height": 356
        },
        "outputId": "c8713e86-7be8-4d49-8e85-c11e4d298422"
      },
      "source": [
        "expresso_churn_few_nulls.head()"
      ],
      "execution_count": 23,
      "outputs": [
        {
          "output_type": "execute_result",
          "data": {
            "text/html": [
              "\n",
              "  <div id=\"df-4cbfda96-84ab-4be2-816f-5a62359823eb\">\n",
              "    <div class=\"colab-df-container\">\n",
              "      <div>\n",
              "<style scoped>\n",
              "    .dataframe tbody tr th:only-of-type {\n",
              "        vertical-align: middle;\n",
              "    }\n",
              "\n",
              "    .dataframe tbody tr th {\n",
              "        vertical-align: top;\n",
              "    }\n",
              "\n",
              "    .dataframe thead th {\n",
              "        text-align: right;\n",
              "    }\n",
              "</style>\n",
              "<table border=\"1\" class=\"dataframe\">\n",
              "  <thead>\n",
              "    <tr style=\"text-align: right;\">\n",
              "      <th></th>\n",
              "      <th>user_id</th>\n",
              "      <th>REGION</th>\n",
              "      <th>TENURE</th>\n",
              "      <th>MONTANT</th>\n",
              "      <th>FREQUENCE_RECH</th>\n",
              "      <th>REVENUE</th>\n",
              "      <th>ARPU_SEGMENT</th>\n",
              "      <th>FREQUENCE</th>\n",
              "      <th>DATA_VOLUME</th>\n",
              "      <th>ON_NET</th>\n",
              "      <th>ORANGE</th>\n",
              "      <th>TIGO</th>\n",
              "      <th>ZONE1</th>\n",
              "      <th>ZONE2</th>\n",
              "      <th>MRG</th>\n",
              "      <th>REGULARITY</th>\n",
              "      <th>TOP_PACK</th>\n",
              "      <th>FREQ_TOP_PACK</th>\n",
              "      <th>CHURN</th>\n",
              "      <th>TOTAL_CALLS</th>\n",
              "    </tr>\n",
              "  </thead>\n",
              "  <tbody>\n",
              "    <tr>\n",
              "      <th>0</th>\n",
              "      <td>00000bfd7d50f01092811bc0c8d7b0d6fe7c3596</td>\n",
              "      <td>FATICK</td>\n",
              "      <td>K &gt; 24 month</td>\n",
              "      <td>4250.0</td>\n",
              "      <td>15.0</td>\n",
              "      <td>4251.0</td>\n",
              "      <td>1417.0</td>\n",
              "      <td>17.0</td>\n",
              "      <td>4.0</td>\n",
              "      <td>388.0</td>\n",
              "      <td>46.0</td>\n",
              "      <td>1.0</td>\n",
              "      <td>1.0</td>\n",
              "      <td>2.0</td>\n",
              "      <td>NO</td>\n",
              "      <td>54</td>\n",
              "      <td>On net 200F=Unlimited _call24H</td>\n",
              "      <td>8.0</td>\n",
              "      <td>0</td>\n",
              "      <td>438.0</td>\n",
              "    </tr>\n",
              "    <tr>\n",
              "      <th>2</th>\n",
              "      <td>00001654a9d9f96303d9969d0a4a851714a4bb57</td>\n",
              "      <td>NotGiven</td>\n",
              "      <td>K &gt; 24 month</td>\n",
              "      <td>3600.0</td>\n",
              "      <td>2.0</td>\n",
              "      <td>1020.0</td>\n",
              "      <td>340.0</td>\n",
              "      <td>2.0</td>\n",
              "      <td>0.0</td>\n",
              "      <td>90.0</td>\n",
              "      <td>46.0</td>\n",
              "      <td>7.0</td>\n",
              "      <td>0.0</td>\n",
              "      <td>0.0</td>\n",
              "      <td>NO</td>\n",
              "      <td>17</td>\n",
              "      <td>On-net 1000F=10MilF;10d</td>\n",
              "      <td>1.0</td>\n",
              "      <td>0</td>\n",
              "      <td>143.0</td>\n",
              "    </tr>\n",
              "    <tr>\n",
              "      <th>3</th>\n",
              "      <td>00001dd6fa45f7ba044bd5d84937be464ce78ac2</td>\n",
              "      <td>DAKAR</td>\n",
              "      <td>K &gt; 24 month</td>\n",
              "      <td>13500.0</td>\n",
              "      <td>15.0</td>\n",
              "      <td>13502.0</td>\n",
              "      <td>4501.0</td>\n",
              "      <td>18.0</td>\n",
              "      <td>43804.0</td>\n",
              "      <td>41.0</td>\n",
              "      <td>102.0</td>\n",
              "      <td>2.0</td>\n",
              "      <td>0.0</td>\n",
              "      <td>0.0</td>\n",
              "      <td>NO</td>\n",
              "      <td>62</td>\n",
              "      <td>Data:1000F=5GB,7d</td>\n",
              "      <td>11.0</td>\n",
              "      <td>0</td>\n",
              "      <td>145.0</td>\n",
              "    </tr>\n",
              "    <tr>\n",
              "      <th>4</th>\n",
              "      <td>000028d9e13a595abe061f9b58f3d76ab907850f</td>\n",
              "      <td>DAKAR</td>\n",
              "      <td>K &gt; 24 month</td>\n",
              "      <td>1000.0</td>\n",
              "      <td>1.0</td>\n",
              "      <td>985.0</td>\n",
              "      <td>328.0</td>\n",
              "      <td>1.0</td>\n",
              "      <td>0.0</td>\n",
              "      <td>39.0</td>\n",
              "      <td>24.0</td>\n",
              "      <td>0.0</td>\n",
              "      <td>0.0</td>\n",
              "      <td>0.0</td>\n",
              "      <td>NO</td>\n",
              "      <td>11</td>\n",
              "      <td>Mixt 250F=Unlimited_call24H</td>\n",
              "      <td>2.0</td>\n",
              "      <td>0</td>\n",
              "      <td>63.0</td>\n",
              "    </tr>\n",
              "    <tr>\n",
              "      <th>5</th>\n",
              "      <td>0000296564272665ccd2925d377e124f3306b01e</td>\n",
              "      <td>LOUGA</td>\n",
              "      <td>K &gt; 24 month</td>\n",
              "      <td>8500.0</td>\n",
              "      <td>17.0</td>\n",
              "      <td>9000.0</td>\n",
              "      <td>3000.0</td>\n",
              "      <td>18.0</td>\n",
              "      <td>0.0</td>\n",
              "      <td>252.0</td>\n",
              "      <td>70.0</td>\n",
              "      <td>91.0</td>\n",
              "      <td>0.0</td>\n",
              "      <td>0.0</td>\n",
              "      <td>NO</td>\n",
              "      <td>62</td>\n",
              "      <td>MIXT:500F= 2500F on net _2500F off net;2d</td>\n",
              "      <td>18.0</td>\n",
              "      <td>0</td>\n",
              "      <td>413.0</td>\n",
              "    </tr>\n",
              "  </tbody>\n",
              "</table>\n",
              "</div>\n",
              "      <button class=\"colab-df-convert\" onclick=\"convertToInteractive('df-4cbfda96-84ab-4be2-816f-5a62359823eb')\"\n",
              "              title=\"Convert this dataframe to an interactive table.\"\n",
              "              style=\"display:none;\">\n",
              "        \n",
              "  <svg xmlns=\"http://www.w3.org/2000/svg\" height=\"24px\"viewBox=\"0 0 24 24\"\n",
              "       width=\"24px\">\n",
              "    <path d=\"M0 0h24v24H0V0z\" fill=\"none\"/>\n",
              "    <path d=\"M18.56 5.44l.94 2.06.94-2.06 2.06-.94-2.06-.94-.94-2.06-.94 2.06-2.06.94zm-11 1L8.5 8.5l.94-2.06 2.06-.94-2.06-.94L8.5 2.5l-.94 2.06-2.06.94zm10 10l.94 2.06.94-2.06 2.06-.94-2.06-.94-.94-2.06-.94 2.06-2.06.94z\"/><path d=\"M17.41 7.96l-1.37-1.37c-.4-.4-.92-.59-1.43-.59-.52 0-1.04.2-1.43.59L10.3 9.45l-7.72 7.72c-.78.78-.78 2.05 0 2.83L4 21.41c.39.39.9.59 1.41.59.51 0 1.02-.2 1.41-.59l7.78-7.78 2.81-2.81c.8-.78.8-2.07 0-2.86zM5.41 20L4 18.59l7.72-7.72 1.47 1.35L5.41 20z\"/>\n",
              "  </svg>\n",
              "      </button>\n",
              "      \n",
              "  <style>\n",
              "    .colab-df-container {\n",
              "      display:flex;\n",
              "      flex-wrap:wrap;\n",
              "      gap: 12px;\n",
              "    }\n",
              "\n",
              "    .colab-df-convert {\n",
              "      background-color: #E8F0FE;\n",
              "      border: none;\n",
              "      border-radius: 50%;\n",
              "      cursor: pointer;\n",
              "      display: none;\n",
              "      fill: #1967D2;\n",
              "      height: 32px;\n",
              "      padding: 0 0 0 0;\n",
              "      width: 32px;\n",
              "    }\n",
              "\n",
              "    .colab-df-convert:hover {\n",
              "      background-color: #E2EBFA;\n",
              "      box-shadow: 0px 1px 2px rgba(60, 64, 67, 0.3), 0px 1px 3px 1px rgba(60, 64, 67, 0.15);\n",
              "      fill: #174EA6;\n",
              "    }\n",
              "\n",
              "    [theme=dark] .colab-df-convert {\n",
              "      background-color: #3B4455;\n",
              "      fill: #D2E3FC;\n",
              "    }\n",
              "\n",
              "    [theme=dark] .colab-df-convert:hover {\n",
              "      background-color: #434B5C;\n",
              "      box-shadow: 0px 1px 3px 1px rgba(0, 0, 0, 0.15);\n",
              "      filter: drop-shadow(0px 1px 2px rgba(0, 0, 0, 0.3));\n",
              "      fill: #FFFFFF;\n",
              "    }\n",
              "  </style>\n",
              "\n",
              "      <script>\n",
              "        const buttonEl =\n",
              "          document.querySelector('#df-4cbfda96-84ab-4be2-816f-5a62359823eb button.colab-df-convert');\n",
              "        buttonEl.style.display =\n",
              "          google.colab.kernel.accessAllowed ? 'block' : 'none';\n",
              "\n",
              "        async function convertToInteractive(key) {\n",
              "          const element = document.querySelector('#df-4cbfda96-84ab-4be2-816f-5a62359823eb');\n",
              "          const dataTable =\n",
              "            await google.colab.kernel.invokeFunction('convertToInteractive',\n",
              "                                                     [key], {});\n",
              "          if (!dataTable) return;\n",
              "\n",
              "          const docLinkHtml = 'Like what you see? Visit the ' +\n",
              "            '<a target=\"_blank\" href=https://colab.research.google.com/notebooks/data_table.ipynb>data table notebook</a>'\n",
              "            + ' to learn more about interactive tables.';\n",
              "          element.innerHTML = '';\n",
              "          dataTable['output_type'] = 'display_data';\n",
              "          await google.colab.output.renderOutput(dataTable, element);\n",
              "          const docLink = document.createElement('div');\n",
              "          docLink.innerHTML = docLinkHtml;\n",
              "          element.appendChild(docLink);\n",
              "        }\n",
              "      </script>\n",
              "    </div>\n",
              "  </div>\n",
              "  "
            ],
            "text/plain": [
              "                                    user_id    REGION  ... CHURN  TOTAL_CALLS\n",
              "0  00000bfd7d50f01092811bc0c8d7b0d6fe7c3596    FATICK  ...     0        438.0\n",
              "2  00001654a9d9f96303d9969d0a4a851714a4bb57  NotGiven  ...     0        143.0\n",
              "3  00001dd6fa45f7ba044bd5d84937be464ce78ac2     DAKAR  ...     0        145.0\n",
              "4  000028d9e13a595abe061f9b58f3d76ab907850f     DAKAR  ...     0         63.0\n",
              "5  0000296564272665ccd2925d377e124f3306b01e     LOUGA  ...     0        413.0\n",
              "\n",
              "[5 rows x 20 columns]"
            ]
          },
          "metadata": {},
          "execution_count": 23
        }
      ]
    },
    {
      "cell_type": "code",
      "metadata": {
        "id": "QNiwzGK7HVFO",
        "colab": {
          "base_uri": "https://localhost:8080/"
        },
        "outputId": "dd0a1b5c-f4da-4bd8-d973-f91b9b51041d"
      },
      "source": [
        "expresso_churn_few_nulls.info()"
      ],
      "execution_count": 24,
      "outputs": [
        {
          "output_type": "stream",
          "name": "stdout",
          "text": [
            "<class 'pandas.core.frame.DataFrame'>\n",
            "Int64Index: 1406999 entries, 0 to 2154046\n",
            "Data columns (total 20 columns):\n",
            " #   Column          Non-Null Count    Dtype  \n",
            "---  ------          --------------    -----  \n",
            " 0   user_id         1406999 non-null  object \n",
            " 1   REGION          1406999 non-null  object \n",
            " 2   TENURE          1406999 non-null  object \n",
            " 3   MONTANT         1406999 non-null  float64\n",
            " 4   FREQUENCE_RECH  1406999 non-null  float64\n",
            " 5   REVENUE         1406999 non-null  float64\n",
            " 6   ARPU_SEGMENT    1406999 non-null  float64\n",
            " 7   FREQUENCE       1406999 non-null  float64\n",
            " 8   DATA_VOLUME     1406999 non-null  float64\n",
            " 9   ON_NET          1406999 non-null  float64\n",
            " 10  ORANGE          1406999 non-null  float64\n",
            " 11  TIGO            1406999 non-null  float64\n",
            " 12  ZONE1           1406999 non-null  float64\n",
            " 13  ZONE2           1406999 non-null  float64\n",
            " 14  MRG             1406999 non-null  object \n",
            " 15  REGULARITY      1406999 non-null  int64  \n",
            " 16  TOP_PACK        1406999 non-null  object \n",
            " 17  FREQ_TOP_PACK   1406999 non-null  float64\n",
            " 18  CHURN           1406999 non-null  int64  \n",
            " 19  TOTAL_CALLS     1406999 non-null  float64\n",
            "dtypes: float64(13), int64(2), object(5)\n",
            "memory usage: 225.4+ MB\n"
          ]
        }
      ]
    },
    {
      "cell_type": "code",
      "metadata": {
        "id": "dZ4Y8x8NHVJ6"
      },
      "source": [
        "def top_pack_freq(df_column) :\n",
        "  keys, values = np.unique(expresso_churn_few_nulls[df_column],\n",
        "                          return_counts= True)\n",
        "  # very_high = np.percentile(values,95)\n",
        "  high = np.percentile(values,90)\n",
        "  medium = np.percentile(values,60)\n",
        "  low =  np.percentile(values,30)\n",
        "\n",
        "  ref_dict = dict()\n",
        "  for key, value in zip(keys,values):\n",
        "    if key != 'NotGiven':\n",
        "      #if value > very_high : # Values that occur alot\n",
        "       # ref_dict[key] = \"very_high_freq\"\n",
        "      if value > high : \n",
        "        ref_dict[key] = \"high_freq\"\n",
        "      elif value > medium : \n",
        "        ref_dict[key] = \"medium_freq\"\n",
        "      elif value > low : \n",
        "        ref_dict[key] = \"low_freq\"\n",
        "      else:\n",
        "        # Values that occur very few times\n",
        "        ref_dict[key] = \"very_low_freq\" \n",
        "    else:\n",
        "      ref_dict[key] = \"NotGiven\"\n",
        "\n",
        "\n",
        "  return ref_dict \n",
        "\n",
        "\n",
        "top_pack_freq_dict = top_pack_freq('TOP_PACK')\n",
        "expresso_churn_few_nulls['TOP_PACK'] = expresso_churn_few_nulls['TOP_PACK'].apply(lambda x: top_pack_freq_dict[x])\n"
      ],
      "execution_count": 26,
      "outputs": []
    },
    {
      "cell_type": "code",
      "metadata": {
        "id": "t8RR47hfLsY1"
      },
      "source": [
        "# Drop the Columns with many Nulls Initially\n",
        "cols_to_drop = ['REGION','TOP_PACK', 'ON_NET', 'ORANGE', 'TIGO', 'ZONE1', 'ZONE2','DATA_VOLUME','MRG','REVENUE']\n",
        "# 'REVENUE'is correlated to APRU_SEGMENT\n",
        "expresso_churn_few_nulls = expresso_churn_few_nulls.drop(cols_to_drop, axis=1)\n",
        "# ZONE1, ZONE2, REGION, DATA_VOLUME has too many nulls\n",
        "# MRG Had only one value \n",
        "\n",
        "\n",
        "expresso_prep = expresso_churn_few_nulls.copy()"
      ],
      "execution_count": 27,
      "outputs": []
    },
    {
      "cell_type": "code",
      "metadata": {
        "id": "A--kPPP1VfbA"
      },
      "source": [
        ""
      ],
      "execution_count": 27,
      "outputs": []
    },
    {
      "cell_type": "code",
      "metadata": {
        "colab": {
          "base_uri": "https://localhost:8080/"
        },
        "id": "ItJ-bz2xVg28",
        "outputId": "a8fd683b-402c-4dca-c7be-4d38a2f5e9be"
      },
      "source": [
        "#cats_for_odirnal = []\n",
        "#for i in range(len(unique_tenure)):\n",
        " # cat = [unique_tenure, i+1]\n",
        " # cats_for_odirnal.append(cat)\n",
        "\n",
        "enc = OrdinalEncoder()\n",
        "enc.fit(expresso_churn_few_nulls[['TENURE']])\n",
        "print(enc.categories_)\n",
        "#enc.transform([['Female', 3], ['Male', 1]])\n",
        "#array([[0., 2.],\n",
        " #      [1., 0.]])"
      ],
      "execution_count": 28,
      "outputs": [
        {
          "output_type": "stream",
          "name": "stdout",
          "text": [
            "[array(['D 3-6 month', 'E 6-9 month', 'F 9-12 month', 'G 12-15 month',\n",
            "       'H 15-18 month', 'I 18-21 month', 'J 21-24 month', 'K > 24 month'],\n",
            "      dtype=object)]\n"
          ]
        }
      ]
    },
    {
      "cell_type": "code",
      "metadata": {
        "id": "A-b53f6iVhDR"
      },
      "source": [
        ""
      ],
      "execution_count": 28,
      "outputs": []
    },
    {
      "cell_type": "code",
      "metadata": {
        "id": "9-0ud38UMXZG"
      },
      "source": [
        "ohe = OneHotEncoder(sparse = False)\n",
        "obj_cols = ['TENURE'] # Remove 'REGION','TOP_PACK' ?\n",
        "ohe.fit(expresso_prep[obj_cols])\n",
        "converted = ohe.transform(expresso_prep[obj_cols])\n",
        "expresso_prep = expresso_prep.drop(obj_cols, axis=1)\n",
        "\n",
        "# Concat the encoded result with the initial df\n",
        "expresso_encoded = pd.concat([expresso_prep,\n",
        "                          pd.DataFrame(converted)],\n",
        "                          join = 'inner',\n",
        "                          axis=1)\n",
        "\n",
        "\n",
        "expresso_encoded = expresso_encoded.set_index('user_id')"
      ],
      "execution_count": 29,
      "outputs": []
    },
    {
      "cell_type": "markdown",
      "metadata": {
        "id": "zVKKwn39S8ax"
      },
      "source": [
        "\n",
        "# Train test split\n",
        "# Class imbalance"
      ]
    },
    {
      "cell_type": "code",
      "metadata": {
        "id": "TPhX8YdWPr7q"
      },
      "source": [
        "from sklearn.model_selection import train_test_split\n",
        "from imblearn.over_sampling import SMOTE \n",
        "from collections import Counter"
      ],
      "execution_count": 30,
      "outputs": []
    },
    {
      "cell_type": "code",
      "metadata": {
        "id": "0Gmt9QtuS5E9",
        "colab": {
          "base_uri": "https://localhost:8080/"
        },
        "outputId": "3bc38980-463b-4797-dc01-2c0177b6f952"
      },
      "source": [
        "x_cols = [col for col in expresso_encoded.columns if col != 'CHURN' ]\n",
        "X = expresso_encoded[x_cols]\n",
        "Y = expresso_encoded['CHURN']\n",
        "\n",
        "oversample = SMOTE(sampling_strategy= 0.1)\n",
        "X_, Y_ = oversample.fit_resample(X, Y)\n",
        "print(Counter(Y) , Counter(Y_))"
      ],
      "execution_count": 31,
      "outputs": [
        {
          "output_type": "stream",
          "name": "stdout",
          "text": [
            "Counter({0: 875872, 1: 43037}) Counter({0: 875872, 1: 87587})\n"
          ]
        }
      ]
    },
    {
      "cell_type": "code",
      "metadata": {
        "id": "a_ot3xGQS5Kf"
      },
      "source": [
        "from sklearn.preprocessing import StandardScaler\n",
        "sc = StandardScaler()"
      ],
      "execution_count": 32,
      "outputs": []
    },
    {
      "cell_type": "code",
      "metadata": {
        "id": "XB7HuQuEkEdz"
      },
      "source": [
        "ss = sc.fit(X_)\n",
        "ssX = ss.transform(X_)"
      ],
      "execution_count": 33,
      "outputs": []
    },
    {
      "cell_type": "code",
      "metadata": {
        "id": "gHK7_nmckSIi",
        "colab": {
          "base_uri": "https://localhost:8080/"
        },
        "outputId": "122ca4f3-6ee4-486e-9395-f97a02dfea11"
      },
      "source": [
        "ssX.shape"
      ],
      "execution_count": 34,
      "outputs": [
        {
          "output_type": "execute_result",
          "data": {
            "text/plain": [
              "(963459, 15)"
            ]
          },
          "metadata": {},
          "execution_count": 34
        }
      ]
    },
    {
      "cell_type": "code",
      "metadata": {
        "id": "GnP98d0DS5QZ",
        "colab": {
          "base_uri": "https://localhost:8080/"
        },
        "outputId": "31047502-87a3-4dce-a7b2-3036d439b4ac"
      },
      "source": [
        "X_train, X_test, Y_train, Y_test = train_test_split(ssX,Y_,\n",
        "                                                    test_size = 0.2, \n",
        "                                                    random_state=123)\n",
        "\n",
        "# Reshaping\n",
        "Y_train = np.array(Y_train).reshape(Y_train.shape[0],1 )\n",
        "X_train = np.array(X_train).reshape(X_train.shape[0], X_train.shape[1],1 )\n",
        "X_test = np.array(X_test).reshape(X_test.shape[0], X_test.shape[1] ,1 )\n",
        "\n",
        "X_train.shape"
      ],
      "execution_count": 35,
      "outputs": [
        {
          "output_type": "execute_result",
          "data": {
            "text/plain": [
              "(770767, 15, 1)"
            ]
          },
          "metadata": {},
          "execution_count": 35
        }
      ]
    },
    {
      "cell_type": "code",
      "metadata": {
        "id": "XEBGKMZ0oGAz"
      },
      "source": [
        ""
      ],
      "execution_count": 35,
      "outputs": []
    },
    {
      "cell_type": "markdown",
      "metadata": {
        "id": "5negoyScUmyA"
      },
      "source": [
        "# Model"
      ]
    },
    {
      "cell_type": "code",
      "metadata": {
        "id": "SSDQNrmdS5UG"
      },
      "source": [
        "from keras import Sequential\n",
        "from keras.layers import GRU,Dense,Dropout,Activation, Embedding\n",
        "from tensorflow.keras.optimizers import Adam"
      ],
      "execution_count": 36,
      "outputs": []
    },
    {
      "cell_type": "code",
      "metadata": {
        "colab": {
          "base_uri": "https://localhost:8080/"
        },
        "id": "D_PM5NVdad2B",
        "outputId": "c6350e35-9fa2-44b6-c832-592c90c9aebb"
      },
      "source": [
        "model = Sequential()\n",
        "model.add(Embedding(input_dim = X_train.shape[1],\n",
        "                    output_dim = Y_train.shape[1]))\n",
        "model.add(GRU(units = 30, return_sequences=True, dropout = 0.2 ))\n",
        "model.add(GRU(units = 30, dropout=0.2 ))\n",
        "model.add(Dense(1, activation='relu' ))\n",
        "\n",
        "\n",
        "opt = Adam(learning_rate=0.001)\n",
        "model.compile(optimizer= opt, loss='binary_crossentropy' , \n",
        "              metrics = ['mse'] )\n",
        "\n",
        "model.summary()"
      ],
      "execution_count": 37,
      "outputs": [
        {
          "output_type": "stream",
          "name": "stdout",
          "text": [
            "Model: \"sequential\"\n",
            "_________________________________________________________________\n",
            " Layer (type)                Output Shape              Param #   \n",
            "=================================================================\n",
            " embedding (Embedding)       (None, None, 1)           15        \n",
            "                                                                 \n",
            " gru (GRU)                   (None, None, 30)          2970      \n",
            "                                                                 \n",
            " gru_1 (GRU)                 (None, 30)                5580      \n",
            "                                                                 \n",
            " dense (Dense)               (None, 1)                 31        \n",
            "                                                                 \n",
            "=================================================================\n",
            "Total params: 8,596\n",
            "Trainable params: 8,596\n",
            "Non-trainable params: 0\n",
            "_________________________________________________________________\n"
          ]
        }
      ]
    },
    {
      "cell_type": "code",
      "metadata": {
        "id": "yAQpAYm8lhsp",
        "colab": {
          "base_uri": "https://localhost:8080/"
        },
        "outputId": "24dff175-c387-4f74-a110-cfeff98d27a1"
      },
      "source": [
        "model.fit(X_train ,  Y_train , batch_size = 1000, epochs = 30)"
      ],
      "execution_count": 38,
      "outputs": [
        {
          "output_type": "stream",
          "name": "stdout",
          "text": [
            "Epoch 1/30\n",
            "771/771 [==============================] - 21s 17ms/step - loss: 0.3010 - mse: 0.0816\n",
            "Epoch 2/30\n",
            "771/771 [==============================] - 13s 17ms/step - loss: 0.3002 - mse: 0.0814\n",
            "Epoch 3/30\n",
            "771/771 [==============================] - 14s 18ms/step - loss: 0.2906 - mse: 0.0800\n",
            "Epoch 4/30\n",
            "771/771 [==============================] - 13s 17ms/step - loss: 0.2808 - mse: 0.0789\n",
            "Epoch 5/30\n",
            "771/771 [==============================] - 13s 17ms/step - loss: 0.2848 - mse: 0.0793\n",
            "Epoch 6/30\n",
            "771/771 [==============================] - 13s 17ms/step - loss: 0.2793 - mse: 0.0783\n",
            "Epoch 7/30\n",
            "771/771 [==============================] - 13s 17ms/step - loss: 0.2775 - mse: 0.0780\n",
            "Epoch 8/30\n",
            "771/771 [==============================] - 13s 17ms/step - loss: 0.2763 - mse: 0.0778\n",
            "Epoch 9/30\n",
            "771/771 [==============================] - 13s 17ms/step - loss: 0.2764 - mse: 0.0778\n",
            "Epoch 10/30\n",
            "771/771 [==============================] - 13s 17ms/step - loss: 0.2832 - mse: 0.0787\n",
            "Epoch 11/30\n",
            "771/771 [==============================] - 13s 17ms/step - loss: 0.2770 - mse: 0.0777\n",
            "Epoch 12/30\n",
            "771/771 [==============================] - 13s 17ms/step - loss: 0.2751 - mse: 0.0774\n",
            "Epoch 13/30\n",
            "771/771 [==============================] - 13s 16ms/step - loss: 0.2797 - mse: 0.0781\n",
            "Epoch 14/30\n",
            "771/771 [==============================] - 13s 16ms/step - loss: 0.2716 - mse: 0.0768\n",
            "Epoch 15/30\n",
            "771/771 [==============================] - 13s 17ms/step - loss: 0.2696 - mse: 0.0764\n",
            "Epoch 16/30\n",
            "771/771 [==============================] - 13s 17ms/step - loss: 0.2667 - mse: 0.0759\n",
            "Epoch 17/30\n",
            "771/771 [==============================] - 13s 17ms/step - loss: 0.2651 - mse: 0.0755\n",
            "Epoch 18/30\n",
            "771/771 [==============================] - 13s 17ms/step - loss: 0.2632 - mse: 0.0752\n",
            "Epoch 19/30\n",
            "771/771 [==============================] - 13s 17ms/step - loss: 0.2631 - mse: 0.0751\n",
            "Epoch 20/30\n",
            "771/771 [==============================] - 13s 17ms/step - loss: 0.2622 - mse: 0.0750\n",
            "Epoch 21/30\n",
            "771/771 [==============================] - 13s 17ms/step - loss: 0.2624 - mse: 0.0750\n",
            "Epoch 22/30\n",
            "771/771 [==============================] - 13s 17ms/step - loss: 0.2627 - mse: 0.0750\n",
            "Epoch 23/30\n",
            "771/771 [==============================] - 13s 17ms/step - loss: 0.2642 - mse: 0.0752\n",
            "Epoch 24/30\n",
            "771/771 [==============================] - 13s 17ms/step - loss: 0.2629 - mse: 0.0749\n",
            "Epoch 25/30\n",
            "771/771 [==============================] - 13s 17ms/step - loss: 0.2621 - mse: 0.0749\n",
            "Epoch 26/30\n",
            "771/771 [==============================] - 13s 17ms/step - loss: 0.2624 - mse: 0.0749\n",
            "Epoch 27/30\n",
            "771/771 [==============================] - 13s 17ms/step - loss: 0.2627 - mse: 0.0749\n",
            "Epoch 28/30\n",
            "771/771 [==============================] - 13s 17ms/step - loss: 0.2625 - mse: 0.0749\n",
            "Epoch 29/30\n",
            "771/771 [==============================] - 13s 17ms/step - loss: 0.2642 - mse: 0.0750\n",
            "Epoch 30/30\n",
            "771/771 [==============================] - 13s 17ms/step - loss: 0.2635 - mse: 0.0750\n"
          ]
        },
        {
          "output_type": "execute_result",
          "data": {
            "text/plain": [
              "<keras.callbacks.History at 0x7f01b0202cd0>"
            ]
          },
          "metadata": {},
          "execution_count": 38
        }
      ]
    },
    {
      "cell_type": "code",
      "metadata": {
        "id": "jiHdFPvdJDe9"
      },
      "source": [
        ""
      ],
      "execution_count": 42,
      "outputs": []
    },
    {
      "cell_type": "code",
      "metadata": {
        "id": "0FF5qxXj94FZ",
        "colab": {
          "base_uri": "https://localhost:8080/",
          "height": 462
        },
        "outputId": "8b1aa15b-d114-430c-be2d-446944d4902c"
      },
      "source": [
        "history = model.history.history\n",
        "plt.figure(figsize=(12,7))\n",
        "plt.plot(history['mse'],marker = 'o'  )\n",
        "plt.title('Model MSE')"
      ],
      "execution_count": 42,
      "outputs": [
        {
          "output_type": "execute_result",
          "data": {
            "text/plain": [
              "Text(0.5, 1.0, 'Model MSE')"
            ]
          },
          "metadata": {},
          "execution_count": 42
        },
        {
          "output_type": "display_data",
          "data": {
            "image/png": "[encoded data removed]",
            "text/plain": [
              "<Figure size 864x504 with 1 Axes>"
            ]
          },
          "metadata": {
            "needs_background": "light"
          }
        }
      ]
    },
    {
      "cell_type": "code",
      "metadata": {
        "id": "6u19dF2O94Kc"
      },
      "source": [
        "\n"
      ],
      "execution_count": null,
      "outputs": []
    },
    {
      "cell_type": "code",
      "metadata": {
        "id": "pQvroJoBgyJJ",
        "colab": {
          "base_uri": "https://localhost:8080/"
        },
        "outputId": "e1363cca-5153-49d8-f797-1e082ba035eb"
      },
      "source": [
        "def get_class(pred_):\n",
        "  return [1 if i[0]>0.5 else 0 for i in pred_ ]\n",
        "  \n",
        "  \n",
        "pred = model.predict(X_test)\n",
        "pred_list = [i[0] for i in pred  ]\n",
        "\n",
        "pred_classes =  get_class(pred)\n",
        "print(\"Accuracy Score : \",accuracy_score(Y_test, pred_classes))\n",
        "\n",
        "# ROC and AUC\n",
        "fpr, tpr, thresholds = roc_curve(Y_test, pred)\n",
        "print(\"AUC : \", auc(fpr, tpr))"
      ],
      "execution_count": 43,
      "outputs": [
        {
          "output_type": "stream",
          "name": "stdout",
          "text": [
            "Accuracy Score :  0.9108369833724286\n",
            "AUC :  0.7997237917675087\n"
          ]
        }
      ]
    },
    {
      "cell_type": "code",
      "metadata": {
        "id": "b_9xwyozeHpv",
        "colab": {
          "base_uri": "https://localhost:8080/"
        },
        "outputId": "a71f7c9c-c8f2-4d7c-cec5-863d80cb0e8d"
      },
      "source": [
        "print(classification_report(Y_test, pred_classes))"
      ],
      "execution_count": 44,
      "outputs": [
        {
          "output_type": "stream",
          "name": "stdout",
          "text": [
            "              precision    recall  f1-score   support\n",
            "\n",
            "           0       0.91      1.00      0.95    175015\n",
            "           1       1.00      0.03      0.05     17677\n",
            "\n",
            "    accuracy                           0.91    192692\n",
            "   macro avg       0.96      0.51      0.50    192692\n",
            "weighted avg       0.92      0.91      0.87    192692\n",
            "\n"
          ]
        }
      ]
    },
    {
      "cell_type": "code",
      "metadata": {
        "id": "bEyO_08MF7s2"
      },
      "source": [
        ""
      ],
      "execution_count": 44,
      "outputs": []
    },
    {
      "cell_type": "code",
      "metadata": {
        "id": "asjAROW0X8Hd"
      },
      "source": [
        "def pack_freq(x):\n",
        "  try:\n",
        "    return top_pack_freq_dict[x]\n",
        "  except KeyError: \n",
        "    '''\n",
        "    If it didn't appear frequently enough to appear in train\n",
        "    its likely low freq\n",
        "    '''\n",
        "    return \"very_low_freq\""
      ],
      "execution_count": 45,
      "outputs": []
    },
    {
      "cell_type": "code",
      "metadata": {
        "id": "OLJfm6p4DNSz"
      },
      "source": [
        "test_data = pd.read_csv('/content/drive/MyDrive/Expresso Churn/Test.csv')\n",
        "#test_data.head(10)\n",
        "\n",
        "test_data[fill_not_given] = test_data[fill_not_given].fillna('NotGiven')\n",
        "test_data[fill_zeros] = test_data[fill_zeros].fillna(0)\n",
        "\n",
        "for col in fill_mode:\n",
        "  my_series = test_data.loc[:,col]\n",
        "  col_mode = my_series.mode()\n",
        "  test_data.loc[:,col]  = my_series.fillna(col_mode)\n",
        "  test_data.loc[:,col]  = np.nan_to_num(my_series, \n",
        "                                                 copy = False, \n",
        "                                                 nan = col_mode, \n",
        "                                                 posinf = col_mode, \n",
        "                                                 neginf = col_mode)\n",
        "  \n",
        "# Total Number of Columns\n",
        "test_data['TOTAL_CALLS'] = test_data[['ON_NET','ORANGE','TIGO','ZONE1','ZONE2']].sum(axis=1)\n",
        "\n",
        "\n",
        "test_data['TOP_PACK'] = test_data['TOP_PACK'].apply(lambda x: pack_freq(x))\n",
        "\n",
        "\n",
        "expresso_test_data = test_data.copy()\n",
        "\n",
        "converted_test = ohe.transform(expresso_test_data[obj_cols])\n",
        "expresso_test_data = expresso_test_data.drop(obj_cols, axis=1)\n",
        "\n",
        "# Concat the encoded result with the initial df\n",
        "expresso_encoded_test_data = pd.concat([expresso_test_data,\n",
        "                          pd.DataFrame(converted)],\n",
        "                          join = 'inner',\n",
        "                          axis=1)\n",
        "\n",
        "\n",
        "expresso_encoded_test_data = expresso_encoded_test_data.set_index('user_id')\n",
        "expresso_encoded_test_data  =  expresso_encoded_test_data.drop(cols_to_drop , axis=1)\n"
      ],
      "execution_count": 46,
      "outputs": []
    },
    {
      "cell_type": "code",
      "metadata": {
        "id": "PI2ugvrRhru6",
        "colab": {
          "base_uri": "https://localhost:8080/"
        },
        "outputId": "aa8fa0ed-bc8b-49f4-921d-6af4ac3ec9e8"
      },
      "source": [
        "scaled_test_data = ss.transform(expresso_encoded_test_data)\n",
        "\n",
        "scaled_test_data = np.array(scaled_test_data).reshape(scaled_test_data.shape[0], \n",
        "                                                      scaled_test_data.shape[1],\n",
        "                                                      1 )\n",
        "\n",
        "scaled_test_data.shape"
      ],
      "execution_count": 47,
      "outputs": [
        {
          "output_type": "execute_result",
          "data": {
            "text/plain": [
              "(380127, 15, 1)"
            ]
          },
          "metadata": {},
          "execution_count": 47
        }
      ]
    },
    {
      "cell_type": "code",
      "metadata": {
        "id": "1msUhlKslQ9C",
        "colab": {
          "base_uri": "https://localhost:8080/",
          "height": 237
        },
        "outputId": "d02d7a17-df05-45c7-d202-8ce674c4728a"
      },
      "source": [
        "test_pred = model.predict(scaled_test_data)\n",
        "test_pred_list = [i[0] for i in test_pred ]\n",
        "\n",
        "df = pd.DataFrame({'user_id': expresso_encoded_test_data.index.values,\n",
        "                   'CHURN': test_pred_list}).set_index('user_id')\n",
        "df.head()"
      ],
      "execution_count": 48,
      "outputs": [
        {
          "output_type": "execute_result",
          "data": {
            "text/html": [
              "\n",
              "  <div id=\"df-e8c9d592-cbd1-4681-8a28-b38dd7e42647\">\n",
              "    <div class=\"colab-df-container\">\n",
              "      <div>\n",
              "<style scoped>\n",
              "    .dataframe tbody tr th:only-of-type {\n",
              "        vertical-align: middle;\n",
              "    }\n",
              "\n",
              "    .dataframe tbody tr th {\n",
              "        vertical-align: top;\n",
              "    }\n",
              "\n",
              "    .dataframe thead th {\n",
              "        text-align: right;\n",
              "    }\n",
              "</style>\n",
              "<table border=\"1\" class=\"dataframe\">\n",
              "  <thead>\n",
              "    <tr style=\"text-align: right;\">\n",
              "      <th></th>\n",
              "      <th>CHURN</th>\n",
              "    </tr>\n",
              "    <tr>\n",
              "      <th>user_id</th>\n",
              "      <th></th>\n",
              "    </tr>\n",
              "  </thead>\n",
              "  <tbody>\n",
              "    <tr>\n",
              "      <th>00001dbe00e56fc4b1c1b65dda63de2a5ece55f9</th>\n",
              "      <td>0.053127</td>\n",
              "    </tr>\n",
              "    <tr>\n",
              "      <th>000055d41c8a62052dd426592e8a4a3342bf565d</th>\n",
              "      <td>0.053127</td>\n",
              "    </tr>\n",
              "    <tr>\n",
              "      <th>000081dd3245e6869a4a9c574c7050e7bb84c2c8</th>\n",
              "      <td>0.021691</td>\n",
              "    </tr>\n",
              "    <tr>\n",
              "      <th>0000b76d2145d9445d9ff6b65c9ebc4196c89337</th>\n",
              "      <td>0.193370</td>\n",
              "    </tr>\n",
              "    <tr>\n",
              "      <th>0000bae5480628cf8fe51ad84bcb39772fc79224</th>\n",
              "      <td>0.193370</td>\n",
              "    </tr>\n",
              "  </tbody>\n",
              "</table>\n",
              "</div>\n",
              "      <button class=\"colab-df-convert\" onclick=\"convertToInteractive('df-e8c9d592-cbd1-4681-8a28-b38dd7e42647')\"\n",
              "              title=\"Convert this dataframe to an interactive table.\"\n",
              "              style=\"display:none;\">\n",
              "        \n",
              "  <svg xmlns=\"http://www.w3.org/2000/svg\" height=\"24px\"viewBox=\"0 0 24 24\"\n",
              "       width=\"24px\">\n",
              "    <path d=\"M0 0h24v24H0V0z\" fill=\"none\"/>\n",
              "    <path d=\"M18.56 5.44l.94 2.06.94-2.06 2.06-.94-2.06-.94-.94-2.06-.94 2.06-2.06.94zm-11 1L8.5 8.5l.94-2.06 2.06-.94-2.06-.94L8.5 2.5l-.94 2.06-2.06.94zm10 10l.94 2.06.94-2.06 2.06-.94-2.06-.94-.94-2.06-.94 2.06-2.06.94z\"/><path d=\"M17.41 7.96l-1.37-1.37c-.4-.4-.92-.59-1.43-.59-.52 0-1.04.2-1.43.59L10.3 9.45l-7.72 7.72c-.78.78-.78 2.05 0 2.83L4 21.41c.39.39.9.59 1.41.59.51 0 1.02-.2 1.41-.59l7.78-7.78 2.81-2.81c.8-.78.8-2.07 0-2.86zM5.41 20L4 18.59l7.72-7.72 1.47 1.35L5.41 20z\"/>\n",
              "  </svg>\n",
              "      </button>\n",
              "      \n",
              "  <style>\n",
              "    .colab-df-container {\n",
              "      display:flex;\n",
              "      flex-wrap:wrap;\n",
              "      gap: 12px;\n",
              "    }\n",
              "\n",
              "    .colab-df-convert {\n",
              "      background-color: #E8F0FE;\n",
              "      border: none;\n",
              "      border-radius: 50%;\n",
              "      cursor: pointer;\n",
              "      display: none;\n",
              "      fill: #1967D2;\n",
              "      height: 32px;\n",
              "      padding: 0 0 0 0;\n",
              "      width: 32px;\n",
              "    }\n",
              "\n",
              "    .colab-df-convert:hover {\n",
              "      background-color: #E2EBFA;\n",
              "      box-shadow: 0px 1px 2px rgba(60, 64, 67, 0.3), 0px 1px 3px 1px rgba(60, 64, 67, 0.15);\n",
              "      fill: #174EA6;\n",
              "    }\n",
              "\n",
              "    [theme=dark] .colab-df-convert {\n",
              "      background-color: #3B4455;\n",
              "      fill: #D2E3FC;\n",
              "    }\n",
              "\n",
              "    [theme=dark] .colab-df-convert:hover {\n",
              "      background-color: #434B5C;\n",
              "      box-shadow: 0px 1px 3px 1px rgba(0, 0, 0, 0.15);\n",
              "      filter: drop-shadow(0px 1px 2px rgba(0, 0, 0, 0.3));\n",
              "      fill: #FFFFFF;\n",
              "    }\n",
              "  </style>\n",
              "\n",
              "      <script>\n",
              "        const buttonEl =\n",
              "          document.querySelector('#df-e8c9d592-cbd1-4681-8a28-b38dd7e42647 button.colab-df-convert');\n",
              "        buttonEl.style.display =\n",
              "          google.colab.kernel.accessAllowed ? 'block' : 'none';\n",
              "\n",
              "        async function convertToInteractive(key) {\n",
              "          const element = document.querySelector('#df-e8c9d592-cbd1-4681-8a28-b38dd7e42647');\n",
              "          const dataTable =\n",
              "            await google.colab.kernel.invokeFunction('convertToInteractive',\n",
              "                                                     [key], {});\n",
              "          if (!dataTable) return;\n",
              "\n",
              "          const docLinkHtml = 'Like what you see? Visit the ' +\n",
              "            '<a target=\"_blank\" href=https://colab.research.google.com/notebooks/data_table.ipynb>data table notebook</a>'\n",
              "            + ' to learn more about interactive tables.';\n",
              "          element.innerHTML = '';\n",
              "          dataTable['output_type'] = 'display_data';\n",
              "          await google.colab.output.renderOutput(dataTable, element);\n",
              "          const docLink = document.createElement('div');\n",
              "          docLink.innerHTML = docLinkHtml;\n",
              "          element.appendChild(docLink);\n",
              "        }\n",
              "      </script>\n",
              "    </div>\n",
              "  </div>\n",
              "  "
            ],
            "text/plain": [
              "                                             CHURN\n",
              "user_id                                           \n",
              "00001dbe00e56fc4b1c1b65dda63de2a5ece55f9  0.053127\n",
              "000055d41c8a62052dd426592e8a4a3342bf565d  0.053127\n",
              "000081dd3245e6869a4a9c574c7050e7bb84c2c8  0.021691\n",
              "0000b76d2145d9445d9ff6b65c9ebc4196c89337  0.193370\n",
              "0000bae5480628cf8fe51ad84bcb39772fc79224  0.193370"
            ]
          },
          "metadata": {},
          "execution_count": 48
        }
      ]
    },
    {
      "cell_type": "code",
      "metadata": {
        "id": "zO2YgiGzlRDv"
      },
      "source": [
        "#df.to_csv('Few_smote_base2.csv')"
      ],
      "execution_count": null,
      "outputs": []
    },
    {
      "cell_type": "code",
      "metadata": {
        "id": "mvkVRp_imoNK"
      },
      "source": [
        ""
      ],
      "execution_count": null,
      "outputs": []
    }
  ]
}